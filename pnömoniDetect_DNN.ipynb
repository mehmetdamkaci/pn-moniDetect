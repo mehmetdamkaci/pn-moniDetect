{
  "nbformat": 4,
  "nbformat_minor": 0,
  "metadata": {
    "colab": {
      "provenance": [],
      "gpuType": "T4",
      "collapsed_sections": [
        "SYE54pfvPIs4",
        "Xpt_wwUKPQSG",
        "r8xjriCMAc9W",
        "WJulF17uLQV5"
      ],
      "include_colab_link": true
    },
    "kernelspec": {
      "name": "python3",
      "display_name": "Python 3"
    },
    "language_info": {
      "name": "python"
    },
    "accelerator": "GPU",
    "gpuClass": "standard"
  },
  "cells": [
    {
      "cell_type": "markdown",
      "metadata": {
        "id": "view-in-github",
        "colab_type": "text"
      },
      "source": [
        "<a href=\"https://colab.research.google.com/github/mehmetdamkaci/pneumoniaDetect/blob/main/pn%C3%B6moniDetect_DNN.ipynb\" target=\"_parent\"><img src=\"https://colab.research.google.com/assets/colab-badge.svg\" alt=\"Open In Colab\"/></a>"
      ]
    },
    {
      "cell_type": "markdown",
      "source": [
        "#Data Pre-Processing"
      ],
      "metadata": {
        "id": "SYE54pfvPIs4"
      }
    },
    {
      "cell_type": "code",
      "source": [
        "from google.colab import drive\n",
        "drive.mount('/content/gdrive')"
      ],
      "metadata": {
        "colab": {
          "base_uri": "https://localhost:8080/"
        },
        "id": "w4jWso1932XQ",
        "outputId": "d41a2beb-6bf9-43cd-97fd-665aa2021eec"
      },
      "execution_count": null,
      "outputs": [
        {
          "output_type": "stream",
          "name": "stdout",
          "text": [
            "Mounted at /content/gdrive\n"
          ]
        }
      ]
    },
    {
      "cell_type": "code",
      "execution_count": null,
      "metadata": {
        "id": "sOTd_8HF3ErH"
      },
      "outputs": [],
      "source": [
        "import os\n",
        "from tqdm import tqdm\n",
        "import cv2\n",
        "import numpy as np\n",
        "import random\n",
        "\n",
        "def dataRead(mainPath):\n",
        "\n",
        "    data = []\n",
        "    label = []\n",
        "\n",
        "    for folder in os.listdir(mainPath):\n",
        "\n",
        "        dataPath = os.path.join(mainPath, folder)\n",
        "\n",
        "        if os.path.isdir(dataPath):\n",
        "\n",
        "            for dataFile in tqdm(os.listdir(dataPath), desc='DATA READİNG'):\n",
        "\n",
        "                filePath = os.path.join(dataPath, dataFile)\n",
        "\n",
        "                if os.path.isfile(filePath):\n",
        "\n",
        "                    image = cv2.imread(filePath)\n",
        "                    grayImage = cv2.cvtColor(image, cv2.COLOR_BGR2GRAY)\n",
        "                    resizeImage = cv2.resize(grayImage, (64,64))\n",
        "                    normalizedImage = resizeImage/255.0\n",
        "                    flattenImg = normalizedImage.flatten()\n",
        "\n",
        "                    if folder=='NORMAL':\n",
        "                        label.append(0)\n",
        "                    else:\n",
        "                        label.append(1)\n",
        "\n",
        "                    data.append(flattenImg)\n",
        "\n",
        "    return np.array(data), np.array(label) "
      ]
    },
    {
      "cell_type": "code",
      "source": [
        "mainPath = '/content/gdrive/My Drive/ANN Project/ChestXray/'\n",
        "metaData, metaLabel = dataRead(mainPath=mainPath)"
      ],
      "metadata": {
        "colab": {
          "base_uri": "https://localhost:8080/"
        },
        "id": "w5fX1bMJ3ezX",
        "outputId": "9e0ccb61-927e-4c27-8bdc-f7e50ee47bcb"
      },
      "execution_count": null,
      "outputs": [
        {
          "output_type": "stream",
          "name": "stderr",
          "text": [
            "DATA READİNG: 100%|██████████| 1583/1583 [01:08<00:00, 23.18it/s]\n",
            "DATA READİNG: 100%|██████████| 1709/1709 [00:29<00:00, 58.47it/s]\n"
          ]
        }
      ]
    },
    {
      "cell_type": "code",
      "source": [
        "print(f'Number Of NORMAL Data : {(metaLabel==0).sum()}')\n",
        "print(f'Number Of PNEUMONIA Data: {(metaLabel==1).sum()}')"
      ],
      "metadata": {
        "colab": {
          "base_uri": "https://localhost:8080/"
        },
        "id": "aB32j1qG3hpT",
        "outputId": "195cb11b-536e-404e-bff9-4c6cec812ab3"
      },
      "execution_count": null,
      "outputs": [
        {
          "output_type": "stream",
          "name": "stdout",
          "text": [
            "Number Of NORMAL Data : 1583\n",
            "Number Of PNEUMONIA Data: 1709\n"
          ]
        }
      ]
    },
    {
      "cell_type": "code",
      "source": [
        "from sklearn.model_selection import train_test_split\n",
        "\n",
        "trainData, testData, trainLabel, testLabel = train_test_split(metaData, metaLabel ,random_state=104, train_size=0.8, shuffle=True)\n",
        "\n",
        "print(f'Shape Of trainData : {trainData.shape}')\n",
        "print(f'Shape Of testData : {testData.shape}')"
      ],
      "metadata": {
        "colab": {
          "base_uri": "https://localhost:8080/"
        },
        "id": "7Fw6BIm73lJn",
        "outputId": "cf6f4153-8206-435a-e9ff-14715bf045b2"
      },
      "execution_count": null,
      "outputs": [
        {
          "output_type": "stream",
          "name": "stdout",
          "text": [
            "Shape Of trainData : (2633, 4096)\n",
            "Shape Of testData : (659, 4096)\n"
          ]
        }
      ]
    },
    {
      "cell_type": "code",
      "source": [
        "np.save('/content/gdrive/My Drive/ANN Project/trainData_DNN.npy', trainData)\n",
        "np.save('/content/gdrive/My Drive/ANN Project/trainLabel_DNN.npy', trainLabel)\n",
        "np.save('/content/gdrive/My Drive/ANN Project/testData_DNN.npy', testData)\n",
        "np.save('/content/gdrive/My Drive/ANN Project/testLabel_DNN.npy', testLabel)"
      ],
      "metadata": {
        "id": "01Y-YNI93rN8"
      },
      "execution_count": null,
      "outputs": []
    },
    {
      "cell_type": "markdown",
      "source": [
        "#Tek Gizli Katmanlı Model"
      ],
      "metadata": {
        "id": "Xpt_wwUKPQSG"
      }
    },
    {
      "cell_type": "code",
      "source": [
        "trainData = np.load('/content/gdrive/My Drive/ANN Project/trainData_DNN.npy')\n",
        "trainLabel = np.load('/content/gdrive/My Drive/ANN Project/trainLabel_DNN.npy')\n",
        "testData = np.load('/content/gdrive/My Drive/ANN Project/testData_DNN.npy')\n",
        "testLabel = np.load('/content/gdrive/My Drive/ANN Project/testLabel_DNN.npy')"
      ],
      "metadata": {
        "id": "YAZAVEvHJV7B"
      },
      "execution_count": null,
      "outputs": []
    },
    {
      "cell_type": "code",
      "source": [
        "import tensorflow as tf\n",
        "from tensorflow.keras.layers import Input, Dense\n",
        "from tensorflow.keras.optimizers import Adam\n",
        "from tensorflow.keras import Model\n",
        "\n",
        "def buildModel(inputVector):\n",
        "\n",
        "    layer1 = Dense(128, activation='relu')(inputVector)  \n",
        "    layer2 = Dense(1, activation='sigmoid')(layer1)\n",
        "\n",
        "    return layer2\n",
        "\n",
        "length=4096\n",
        "inputSignal = Input(shape=(length,))\n",
        "model=Model(inputs=inputSignal, outputs=buildModel(inputSignal))\n",
        "optimizer = Adam(learning_rate=0.001)\n",
        "model.compile(optimizer=optimizer, loss='binary_crossentropy', metrics=['accuracy'])\n",
        "model.summary()"
      ],
      "metadata": {
        "colab": {
          "base_uri": "https://localhost:8080/"
        },
        "id": "w2S79pNp72ao",
        "outputId": "de06c72b-c3b0-4e5c-bea7-5890d915ce87"
      },
      "execution_count": null,
      "outputs": [
        {
          "output_type": "stream",
          "name": "stdout",
          "text": [
            "Model: \"model_10\"\n",
            "_________________________________________________________________\n",
            " Layer (type)                Output Shape              Param #   \n",
            "=================================================================\n",
            " input_10 (InputLayer)       [(None, 4096)]            0         \n",
            "                                                                 \n",
            " dense_39 (Dense)            (None, 128)               524416    \n",
            "                                                                 \n",
            " dense_40 (Dense)            (None, 1)                 129       \n",
            "                                                                 \n",
            "=================================================================\n",
            "Total params: 524,545\n",
            "Trainable params: 524,545\n",
            "Non-trainable params: 0\n",
            "_________________________________________________________________\n"
          ]
        }
      ]
    },
    {
      "cell_type": "code",
      "source": [
        "from keras.callbacks import ModelCheckpoint\n",
        "\n",
        "filepath='/content/gdrive/MyDrive/ANN Project/Models/DNN_one_hidden_bestModel.h5'\n",
        "checkpoint = ModelCheckpoint(filepath, monitor='val_accuracy',verbose=2, save_best_only=True, mode='max')\n",
        "callbacks_list = [checkpoint]\n",
        "    \n",
        "batch_size=64\n",
        "epochs=50\n",
        "\n",
        "hist=model.fit( trainData,\n",
        "                trainLabel,\n",
        "                epochs=epochs,\n",
        "                shuffle=True,\n",
        "                batch_size=batch_size,\n",
        "                verbose=2,\n",
        "                validation_split=0.15,\n",
        "                callbacks=callbacks_list)"
      ],
      "metadata": {
        "colab": {
          "base_uri": "https://localhost:8080/"
        },
        "id": "C2bX7lUU9MPm",
        "outputId": "c52a11bd-927a-45bb-bc22-c9904edd7da4"
      },
      "execution_count": null,
      "outputs": [
        {
          "output_type": "stream",
          "name": "stdout",
          "text": [
            "Epoch 1/50\n",
            "\n",
            "Epoch 1: val_accuracy improved from -inf to 0.80759, saving model to /content/gdrive/MyDrive/ANN Project/Models/DNN_one_hidden_bestModel.h5\n",
            "35/35 - 2s - loss: 0.9609 - accuracy: 0.5715 - val_loss: 0.6040 - val_accuracy: 0.8076 - 2s/epoch - 43ms/step\n",
            "Epoch 2/50\n",
            "\n",
            "Epoch 2: val_accuracy improved from 0.80759 to 0.86835, saving model to /content/gdrive/MyDrive/ANN Project/Models/DNN_one_hidden_bestModel.h5\n",
            "35/35 - 0s - loss: 0.5368 - accuracy: 0.8365 - val_loss: 0.4656 - val_accuracy: 0.8684 - 392ms/epoch - 11ms/step\n",
            "Epoch 3/50\n",
            "\n",
            "Epoch 3: val_accuracy improved from 0.86835 to 0.88354, saving model to /content/gdrive/MyDrive/ANN Project/Models/DNN_one_hidden_bestModel.h5\n",
            "35/35 - 0s - loss: 0.4164 - accuracy: 0.8588 - val_loss: 0.3643 - val_accuracy: 0.8835 - 439ms/epoch - 13ms/step\n",
            "Epoch 4/50\n",
            "\n",
            "Epoch 4: val_accuracy improved from 0.88354 to 0.90127, saving model to /content/gdrive/MyDrive/ANN Project/Models/DNN_one_hidden_bestModel.h5\n",
            "35/35 - 0s - loss: 0.3439 - accuracy: 0.8713 - val_loss: 0.2942 - val_accuracy: 0.9013 - 462ms/epoch - 13ms/step\n",
            "Epoch 5/50\n",
            "\n",
            "Epoch 5: val_accuracy improved from 0.90127 to 0.91646, saving model to /content/gdrive/MyDrive/ANN Project/Models/DNN_one_hidden_bestModel.h5\n",
            "35/35 - 0s - loss: 0.2928 - accuracy: 0.8892 - val_loss: 0.2589 - val_accuracy: 0.9165 - 397ms/epoch - 11ms/step\n",
            "Epoch 6/50\n",
            "\n",
            "Epoch 6: val_accuracy improved from 0.91646 to 0.92658, saving model to /content/gdrive/MyDrive/ANN Project/Models/DNN_one_hidden_bestModel.h5\n",
            "35/35 - 0s - loss: 0.2657 - accuracy: 0.8981 - val_loss: 0.2252 - val_accuracy: 0.9266 - 404ms/epoch - 12ms/step\n",
            "Epoch 7/50\n",
            "\n",
            "Epoch 7: val_accuracy improved from 0.92658 to 0.93165, saving model to /content/gdrive/MyDrive/ANN Project/Models/DNN_one_hidden_bestModel.h5\n",
            "35/35 - 0s - loss: 0.2399 - accuracy: 0.9066 - val_loss: 0.2079 - val_accuracy: 0.9316 - 388ms/epoch - 11ms/step\n",
            "Epoch 8/50\n",
            "\n",
            "Epoch 8: val_accuracy improved from 0.93165 to 0.93924, saving model to /content/gdrive/MyDrive/ANN Project/Models/DNN_one_hidden_bestModel.h5\n",
            "35/35 - 0s - loss: 0.2256 - accuracy: 0.9120 - val_loss: 0.1969 - val_accuracy: 0.9392 - 419ms/epoch - 12ms/step\n",
            "Epoch 9/50\n",
            "\n",
            "Epoch 9: val_accuracy did not improve from 0.93924\n",
            "35/35 - 0s - loss: 0.2126 - accuracy: 0.9178 - val_loss: 0.1855 - val_accuracy: 0.9266 - 398ms/epoch - 11ms/step\n",
            "Epoch 10/50\n",
            "\n",
            "Epoch 10: val_accuracy did not improve from 0.93924\n",
            "35/35 - 0s - loss: 0.2179 - accuracy: 0.9111 - val_loss: 0.1800 - val_accuracy: 0.9392 - 348ms/epoch - 10ms/step\n",
            "Epoch 11/50\n",
            "\n",
            "Epoch 11: val_accuracy improved from 0.93924 to 0.94177, saving model to /content/gdrive/MyDrive/ANN Project/Models/DNN_one_hidden_bestModel.h5\n",
            "35/35 - 0s - loss: 0.1943 - accuracy: 0.9254 - val_loss: 0.1656 - val_accuracy: 0.9418 - 436ms/epoch - 12ms/step\n",
            "Epoch 12/50\n",
            "\n",
            "Epoch 12: val_accuracy improved from 0.94177 to 0.94937, saving model to /content/gdrive/MyDrive/ANN Project/Models/DNN_one_hidden_bestModel.h5\n",
            "35/35 - 0s - loss: 0.1877 - accuracy: 0.9294 - val_loss: 0.1615 - val_accuracy: 0.9494 - 400ms/epoch - 11ms/step\n",
            "Epoch 13/50\n",
            "\n",
            "Epoch 13: val_accuracy did not improve from 0.94937\n",
            "35/35 - 0s - loss: 0.1843 - accuracy: 0.9254 - val_loss: 0.1566 - val_accuracy: 0.9494 - 339ms/epoch - 10ms/step\n",
            "Epoch 14/50\n",
            "\n",
            "Epoch 14: val_accuracy did not improve from 0.94937\n",
            "35/35 - 0s - loss: 0.1847 - accuracy: 0.9245 - val_loss: 0.1583 - val_accuracy: 0.9367 - 366ms/epoch - 10ms/step\n",
            "Epoch 15/50\n",
            "\n",
            "Epoch 15: val_accuracy did not improve from 0.94937\n",
            "35/35 - 0s - loss: 0.1759 - accuracy: 0.9236 - val_loss: 0.1663 - val_accuracy: 0.9291 - 379ms/epoch - 11ms/step\n",
            "Epoch 16/50\n",
            "\n",
            "Epoch 16: val_accuracy did not improve from 0.94937\n",
            "35/35 - 0s - loss: 0.1786 - accuracy: 0.9290 - val_loss: 0.1590 - val_accuracy: 0.9367 - 332ms/epoch - 9ms/step\n",
            "Epoch 17/50\n",
            "\n",
            "Epoch 17: val_accuracy did not improve from 0.94937\n",
            "35/35 - 0s - loss: 0.1714 - accuracy: 0.9307 - val_loss: 0.1645 - val_accuracy: 0.9342 - 391ms/epoch - 11ms/step\n",
            "Epoch 18/50\n",
            "\n",
            "Epoch 18: val_accuracy did not improve from 0.94937\n",
            "35/35 - 0s - loss: 0.1695 - accuracy: 0.9316 - val_loss: 0.1762 - val_accuracy: 0.9215 - 392ms/epoch - 11ms/step\n",
            "Epoch 19/50\n",
            "\n",
            "Epoch 19: val_accuracy did not improve from 0.94937\n",
            "35/35 - 1s - loss: 0.1740 - accuracy: 0.9272 - val_loss: 0.1509 - val_accuracy: 0.9392 - 574ms/epoch - 16ms/step\n",
            "Epoch 20/50\n",
            "\n",
            "Epoch 20: val_accuracy did not improve from 0.94937\n",
            "35/35 - 1s - loss: 0.1671 - accuracy: 0.9316 - val_loss: 0.1510 - val_accuracy: 0.9418 - 535ms/epoch - 15ms/step\n",
            "Epoch 21/50\n",
            "\n",
            "Epoch 21: val_accuracy did not improve from 0.94937\n",
            "35/35 - 1s - loss: 0.1634 - accuracy: 0.9374 - val_loss: 0.1482 - val_accuracy: 0.9494 - 517ms/epoch - 15ms/step\n",
            "Epoch 22/50\n",
            "\n",
            "Epoch 22: val_accuracy did not improve from 0.94937\n",
            "35/35 - 1s - loss: 0.1586 - accuracy: 0.9334 - val_loss: 0.1470 - val_accuracy: 0.9494 - 545ms/epoch - 16ms/step\n",
            "Epoch 23/50\n",
            "\n",
            "Epoch 23: val_accuracy did not improve from 0.94937\n",
            "35/35 - 1s - loss: 0.1751 - accuracy: 0.9263 - val_loss: 0.1660 - val_accuracy: 0.9291 - 558ms/epoch - 16ms/step\n",
            "Epoch 24/50\n",
            "\n",
            "Epoch 24: val_accuracy improved from 0.94937 to 0.95190, saving model to /content/gdrive/MyDrive/ANN Project/Models/DNN_one_hidden_bestModel.h5\n",
            "35/35 - 1s - loss: 0.1635 - accuracy: 0.9316 - val_loss: 0.1473 - val_accuracy: 0.9519 - 640ms/epoch - 18ms/step\n",
            "Epoch 25/50\n",
            "\n",
            "Epoch 25: val_accuracy did not improve from 0.95190\n",
            "35/35 - 1s - loss: 0.1571 - accuracy: 0.9383 - val_loss: 0.1492 - val_accuracy: 0.9468 - 558ms/epoch - 16ms/step\n",
            "Epoch 26/50\n",
            "\n",
            "Epoch 26: val_accuracy did not improve from 0.95190\n",
            "35/35 - 1s - loss: 0.1534 - accuracy: 0.9366 - val_loss: 0.1649 - val_accuracy: 0.9266 - 531ms/epoch - 15ms/step\n",
            "Epoch 27/50\n",
            "\n",
            "Epoch 27: val_accuracy did not improve from 0.95190\n",
            "35/35 - 0s - loss: 0.1766 - accuracy: 0.9276 - val_loss: 0.1773 - val_accuracy: 0.9190 - 381ms/epoch - 11ms/step\n",
            "Epoch 28/50\n",
            "\n",
            "Epoch 28: val_accuracy did not improve from 0.95190\n",
            "35/35 - 0s - loss: 0.1539 - accuracy: 0.9361 - val_loss: 0.1490 - val_accuracy: 0.9443 - 333ms/epoch - 10ms/step\n",
            "Epoch 29/50\n",
            "\n",
            "Epoch 29: val_accuracy did not improve from 0.95190\n",
            "35/35 - 0s - loss: 0.1485 - accuracy: 0.9392 - val_loss: 0.1459 - val_accuracy: 0.9494 - 379ms/epoch - 11ms/step\n",
            "Epoch 30/50\n",
            "\n",
            "Epoch 30: val_accuracy did not improve from 0.95190\n",
            "35/35 - 0s - loss: 0.1516 - accuracy: 0.9397 - val_loss: 0.1470 - val_accuracy: 0.9494 - 407ms/epoch - 12ms/step\n",
            "Epoch 31/50\n",
            "\n",
            "Epoch 31: val_accuracy did not improve from 0.95190\n",
            "35/35 - 0s - loss: 0.1497 - accuracy: 0.9374 - val_loss: 0.1539 - val_accuracy: 0.9392 - 340ms/epoch - 10ms/step\n",
            "Epoch 32/50\n",
            "\n",
            "Epoch 32: val_accuracy did not improve from 0.95190\n",
            "35/35 - 0s - loss: 0.1457 - accuracy: 0.9401 - val_loss: 0.1459 - val_accuracy: 0.9494 - 378ms/epoch - 11ms/step\n",
            "Epoch 33/50\n",
            "\n",
            "Epoch 33: val_accuracy did not improve from 0.95190\n",
            "35/35 - 0s - loss: 0.1523 - accuracy: 0.9383 - val_loss: 0.1617 - val_accuracy: 0.9342 - 345ms/epoch - 10ms/step\n",
            "Epoch 34/50\n",
            "\n",
            "Epoch 34: val_accuracy did not improve from 0.95190\n",
            "35/35 - 0s - loss: 0.1431 - accuracy: 0.9406 - val_loss: 0.1498 - val_accuracy: 0.9468 - 397ms/epoch - 11ms/step\n",
            "Epoch 35/50\n",
            "\n",
            "Epoch 35: val_accuracy did not improve from 0.95190\n",
            "35/35 - 0s - loss: 0.1439 - accuracy: 0.9410 - val_loss: 0.1460 - val_accuracy: 0.9494 - 359ms/epoch - 10ms/step\n",
            "Epoch 36/50\n",
            "\n",
            "Epoch 36: val_accuracy did not improve from 0.95190\n",
            "35/35 - 0s - loss: 0.1402 - accuracy: 0.9424 - val_loss: 0.1476 - val_accuracy: 0.9468 - 340ms/epoch - 10ms/step\n",
            "Epoch 37/50\n",
            "\n",
            "Epoch 37: val_accuracy did not improve from 0.95190\n",
            "35/35 - 0s - loss: 0.1464 - accuracy: 0.9406 - val_loss: 0.1461 - val_accuracy: 0.9468 - 335ms/epoch - 10ms/step\n",
            "Epoch 38/50\n",
            "\n",
            "Epoch 38: val_accuracy did not improve from 0.95190\n",
            "35/35 - 0s - loss: 0.1380 - accuracy: 0.9437 - val_loss: 0.1659 - val_accuracy: 0.9291 - 350ms/epoch - 10ms/step\n",
            "Epoch 39/50\n",
            "\n",
            "Epoch 39: val_accuracy did not improve from 0.95190\n",
            "35/35 - 0s - loss: 0.1370 - accuracy: 0.9433 - val_loss: 0.1475 - val_accuracy: 0.9468 - 346ms/epoch - 10ms/step\n",
            "Epoch 40/50\n",
            "\n",
            "Epoch 40: val_accuracy did not improve from 0.95190\n",
            "35/35 - 0s - loss: 0.1388 - accuracy: 0.9437 - val_loss: 0.1546 - val_accuracy: 0.9418 - 374ms/epoch - 11ms/step\n",
            "Epoch 41/50\n",
            "\n",
            "Epoch 41: val_accuracy did not improve from 0.95190\n",
            "35/35 - 0s - loss: 0.1348 - accuracy: 0.9419 - val_loss: 0.1514 - val_accuracy: 0.9443 - 364ms/epoch - 10ms/step\n",
            "Epoch 42/50\n",
            "\n",
            "Epoch 42: val_accuracy did not improve from 0.95190\n",
            "35/35 - 0s - loss: 0.1347 - accuracy: 0.9468 - val_loss: 0.1489 - val_accuracy: 0.9468 - 347ms/epoch - 10ms/step\n",
            "Epoch 43/50\n",
            "\n",
            "Epoch 43: val_accuracy did not improve from 0.95190\n",
            "35/35 - 0s - loss: 0.1343 - accuracy: 0.9459 - val_loss: 0.1480 - val_accuracy: 0.9468 - 382ms/epoch - 11ms/step\n",
            "Epoch 44/50\n",
            "\n",
            "Epoch 44: val_accuracy did not improve from 0.95190\n",
            "35/35 - 0s - loss: 0.1328 - accuracy: 0.9468 - val_loss: 0.1486 - val_accuracy: 0.9494 - 360ms/epoch - 10ms/step\n",
            "Epoch 45/50\n",
            "\n",
            "Epoch 45: val_accuracy did not improve from 0.95190\n",
            "35/35 - 0s - loss: 0.1297 - accuracy: 0.9459 - val_loss: 0.1768 - val_accuracy: 0.9291 - 341ms/epoch - 10ms/step\n",
            "Epoch 46/50\n",
            "\n",
            "Epoch 46: val_accuracy did not improve from 0.95190\n",
            "35/35 - 0s - loss: 0.1284 - accuracy: 0.9491 - val_loss: 0.1494 - val_accuracy: 0.9468 - 383ms/epoch - 11ms/step\n",
            "Epoch 47/50\n",
            "\n",
            "Epoch 47: val_accuracy did not improve from 0.95190\n",
            "35/35 - 0s - loss: 0.1384 - accuracy: 0.9428 - val_loss: 0.1508 - val_accuracy: 0.9443 - 350ms/epoch - 10ms/step\n",
            "Epoch 48/50\n",
            "\n",
            "Epoch 48: val_accuracy did not improve from 0.95190\n",
            "35/35 - 0s - loss: 0.1347 - accuracy: 0.9450 - val_loss: 0.1492 - val_accuracy: 0.9494 - 386ms/epoch - 11ms/step\n",
            "Epoch 49/50\n",
            "\n",
            "Epoch 49: val_accuracy did not improve from 0.95190\n",
            "35/35 - 0s - loss: 0.1232 - accuracy: 0.9508 - val_loss: 0.1488 - val_accuracy: 0.9494 - 363ms/epoch - 10ms/step\n",
            "Epoch 50/50\n",
            "\n",
            "Epoch 50: val_accuracy did not improve from 0.95190\n",
            "35/35 - 0s - loss: 0.1216 - accuracy: 0.9495 - val_loss: 0.1548 - val_accuracy: 0.9443 - 351ms/epoch - 10ms/step\n"
          ]
        }
      ]
    },
    {
      "cell_type": "code",
      "source": [
        "filepath='/content/gdrive/MyDrive/ANN Project/Models/DNN_one_hidden_bestModel.h5'\n",
        "predModel=Model(inputs=inputSignal, outputs=buildModel(inputSignal))\n",
        "predModel.load_weights(filepath)\n",
        "predModel.compile(optimizer=optimizer, loss='binary_crossentropy', metrics=['accuracy'])\n",
        "\n",
        "test_dataset = tf.data.Dataset.from_tensor_slices((testData, testLabel))\n",
        "test_dataset = test_dataset.batch(64)\n",
        "result = predModel.evaluate(test_dataset)"
      ],
      "metadata": {
        "colab": {
          "base_uri": "https://localhost:8080/"
        },
        "id": "5xjkJLUx9dWY",
        "outputId": "ab6d084c-0855-4c7d-d468-6f1de5edfa7c"
      },
      "execution_count": null,
      "outputs": [
        {
          "output_type": "stream",
          "name": "stdout",
          "text": [
            "11/11 [==============================] - 0s 5ms/step - loss: 0.1684 - accuracy: 0.9408\n"
          ]
        }
      ]
    },
    {
      "cell_type": "code",
      "source": [
        "import matplotlib.pyplot as plt\n",
        "\n",
        "plt.figure(figsize=(12,4))\n",
        "plt.subplot(1,2,1)\n",
        "plt.plot(hist.history['loss'])\n",
        "plt.plot(hist.history['accuracy'])\n",
        "plt.title('Train')\n",
        "plt.legend(['loss', 'accuracy'])\n",
        "\n",
        "plt.subplot(1,2,2)\n",
        "plt.plot(hist.history['val_loss'])\n",
        "plt.plot(hist.history['val_accuracy'])\n",
        "plt.title('Validation')\n",
        "plt.legend(['val_loss', 'val_accuracy'])\n",
        "plt.show()"
      ],
      "metadata": {
        "colab": {
          "base_uri": "https://localhost:8080/",
          "height": 391
        },
        "id": "k49TTeqr_IFP",
        "outputId": "418f2ce0-6d4e-4c8f-98f8-adf60f40635f"
      },
      "execution_count": null,
      "outputs": [
        {
          "output_type": "display_data",
          "data": {
            "text/plain": [
              "<Figure size 1200x400 with 2 Axes>"
            ],
            "image/png": "[encoded data removed]"
          },
          "metadata": {}
        }
      ]
    },
    {
      "cell_type": "markdown",
      "source": [
        "#Model ve Eğitim Yorumları\n",
        "* Bu mimaride sadece Dense katmanları kullanacağız. Modeli incelediğimizde, model sadece 1 gizli katmandan ve bir çıkış katmanından oluşmaktadır. Gizli katmanda 128 tane nöron bulunmaktadır ve aktivasyon fonksiyonu ise relu seçilmiştir.\n",
        "* Eğitim incelendiğinde modelde herhangi bir ezberleme durumu gözlemlenmemiştir. Epoch sayısı artırılırsa bu durum belki değişebilir. Fakat 50 epoch boyunca model ezberlememiştir. Validation accuracy ve loss incelendiğinde de bunu anlayabiliyoruz.\n",
        "* Test verisi üzerinde %94.08 başarı elde ederek model öğrenmiştir."
      ],
      "metadata": {
        "id": "MBnf8gP5_Qpl"
      }
    },
    {
      "cell_type": "markdown",
      "source": [
        "#Optimize\n",
        "* Modelin şu an test verisi üzerinde olan başarı iyidir bu yüzden yapacağımız optimizeler sonucu başarı çok fazla değişmeyecektir."
      ],
      "metadata": {
        "id": "1bTDyD5oARnC"
      }
    },
    {
      "cell_type": "markdown",
      "source": [
        "#Daha Derin Bir Model\n",
        "\n",
        "* Modeli derinleştirmenin sonucunda model daha fazla feature öğrenecektir. Bu durumda ezberleme olasılığı da mevcuttur bu yüzden Dropout katmanları da kullanmamız gerekiyor."
      ],
      "metadata": {
        "id": "r8xjriCMAc9W"
      }
    },
    {
      "cell_type": "code",
      "source": [
        "from tensorflow.keras.layers import Input, Dense, Dropout\n",
        "\n",
        "def buildModel(inputVector):\n",
        "\n",
        "    layer1 = Dense(128, activation='relu')(inputVector)\n",
        "    layer2 = Dense(128, activation='relu')(layer1)    \n",
        "    layer3 = Dropout(0.25)(layer2)  \n",
        "    layer4 = Dense(64, activation='relu')(layer3)  \n",
        "    layer5 = Dense(64, activation='relu')(layer4)\n",
        "    layer6 = Dropout(0.25)(layer5)\n",
        "    layer7 = Dense(32, activation='relu')(layer6)  \n",
        "    layer8 = Dense(32, activation='relu')(layer7)  \n",
        "    layer9 = Dropout(0.25)(layer8)\n",
        "    layer10 = Dense(16, activation='relu')(layer9)      \n",
        "    layer11 = Dense(1, activation='sigmoid')(layer10)\n",
        "\n",
        "    return layer11\n",
        "\n",
        "length=4096\n",
        "inputSignal = Input(shape=(length,))\n",
        "model=Model(inputs=inputSignal, outputs=buildModel(inputSignal))\n",
        "optimizer = Adam(learning_rate=0.001)\n",
        "model.compile(optimizer=optimizer, loss='binary_crossentropy', metrics=['accuracy'])\n",
        "model.summary()"
      ],
      "metadata": {
        "colab": {
          "base_uri": "https://localhost:8080/"
        },
        "id": "r1E5iqTaAPGc",
        "outputId": "546483cc-ddc5-4bbe-9a0c-cc558037bb0f"
      },
      "execution_count": null,
      "outputs": [
        {
          "output_type": "stream",
          "name": "stdout",
          "text": [
            "Model: \"model_11\"\n",
            "_________________________________________________________________\n",
            " Layer (type)                Output Shape              Param #   \n",
            "=================================================================\n",
            " input_11 (InputLayer)       [(None, 4096)]            0         \n",
            "                                                                 \n",
            " dense_41 (Dense)            (None, 128)               524416    \n",
            "                                                                 \n",
            " dense_42 (Dense)            (None, 128)               16512     \n",
            "                                                                 \n",
            " dropout_11 (Dropout)        (None, 128)               0         \n",
            "                                                                 \n",
            " dense_43 (Dense)            (None, 64)                8256      \n",
            "                                                                 \n",
            " dense_44 (Dense)            (None, 64)                4160      \n",
            "                                                                 \n",
            " dropout_12 (Dropout)        (None, 64)                0         \n",
            "                                                                 \n",
            " dense_45 (Dense)            (None, 32)                2080      \n",
            "                                                                 \n",
            " dense_46 (Dense)            (None, 32)                1056      \n",
            "                                                                 \n",
            " dropout_13 (Dropout)        (None, 32)                0         \n",
            "                                                                 \n",
            " dense_47 (Dense)            (None, 16)                528       \n",
            "                                                                 \n",
            " dense_48 (Dense)            (None, 1)                 17        \n",
            "                                                                 \n",
            "=================================================================\n",
            "Total params: 557,025\n",
            "Trainable params: 557,025\n",
            "Non-trainable params: 0\n",
            "_________________________________________________________________\n"
          ]
        }
      ]
    },
    {
      "cell_type": "code",
      "source": [
        "from keras.callbacks import ModelCheckpoint\n",
        "\n",
        "filepath='/content/gdrive/MyDrive/ANN Project/Models/DNN_optimize_bestModel.h5'\n",
        "checkpoint = ModelCheckpoint(filepath, monitor='val_accuracy',verbose=2, save_best_only=True, mode='max')\n",
        "callbacks_list = [checkpoint]\n",
        "    \n",
        "batch_size=64\n",
        "epochs=50\n",
        "\n",
        "hist=model.fit( trainData,\n",
        "                trainLabel,\n",
        "                epochs=epochs,\n",
        "                shuffle=True,\n",
        "                batch_size=batch_size,\n",
        "                verbose=2,\n",
        "                validation_split=0.15,\n",
        "                callbacks=callbacks_list)"
      ],
      "metadata": {
        "colab": {
          "base_uri": "https://localhost:8080/"
        },
        "id": "G7ieonNqCJfe",
        "outputId": "f889ae14-68a8-4390-b1ad-819718bf90fb"
      },
      "execution_count": null,
      "outputs": [
        {
          "output_type": "stream",
          "name": "stdout",
          "text": [
            "Epoch 1/50\n",
            "\n",
            "Epoch 1: val_accuracy improved from -inf to 0.49367, saving model to /content/gdrive/MyDrive/ANN Project/Models/DNN_optimize_bestModel.h5\n",
            "35/35 - 2s - loss: 0.7019 - accuracy: 0.5241 - val_loss: 0.6841 - val_accuracy: 0.4937 - 2s/epoch - 69ms/step\n",
            "Epoch 2/50\n",
            "\n",
            "Epoch 2: val_accuracy improved from 0.49367 to 0.85316, saving model to /content/gdrive/MyDrive/ANN Project/Models/DNN_optimize_bestModel.h5\n",
            "35/35 - 1s - loss: 0.6010 - accuracy: 0.6761 - val_loss: 0.3656 - val_accuracy: 0.8532 - 564ms/epoch - 16ms/step\n",
            "Epoch 3/50\n",
            "\n",
            "Epoch 3: val_accuracy improved from 0.85316 to 0.87342, saving model to /content/gdrive/MyDrive/ANN Project/Models/DNN_optimize_bestModel.h5\n",
            "35/35 - 0s - loss: 0.3645 - accuracy: 0.8588 - val_loss: 0.3207 - val_accuracy: 0.8734 - 486ms/epoch - 14ms/step\n",
            "Epoch 4/50\n",
            "\n",
            "Epoch 4: val_accuracy improved from 0.87342 to 0.93418, saving model to /content/gdrive/MyDrive/ANN Project/Models/DNN_optimize_bestModel.h5\n",
            "35/35 - 1s - loss: 0.2612 - accuracy: 0.8990 - val_loss: 0.1766 - val_accuracy: 0.9342 - 509ms/epoch - 15ms/step\n",
            "Epoch 5/50\n",
            "\n",
            "Epoch 5: val_accuracy improved from 0.93418 to 0.93924, saving model to /content/gdrive/MyDrive/ANN Project/Models/DNN_optimize_bestModel.h5\n",
            "35/35 - 1s - loss: 0.2303 - accuracy: 0.9151 - val_loss: 0.1596 - val_accuracy: 0.9392 - 501ms/epoch - 14ms/step\n",
            "Epoch 6/50\n",
            "\n",
            "Epoch 6: val_accuracy did not improve from 0.93924\n",
            "35/35 - 0s - loss: 0.2031 - accuracy: 0.9182 - val_loss: 0.1658 - val_accuracy: 0.9291 - 476ms/epoch - 14ms/step\n",
            "Epoch 7/50\n",
            "\n",
            "Epoch 7: val_accuracy did not improve from 0.93924\n",
            "35/35 - 1s - loss: 0.2361 - accuracy: 0.9030 - val_loss: 0.1927 - val_accuracy: 0.9291 - 502ms/epoch - 14ms/step\n",
            "Epoch 8/50\n",
            "\n",
            "Epoch 8: val_accuracy improved from 0.93924 to 0.94684, saving model to /content/gdrive/MyDrive/ANN Project/Models/DNN_optimize_bestModel.h5\n",
            "35/35 - 1s - loss: 0.1952 - accuracy: 0.9307 - val_loss: 0.1483 - val_accuracy: 0.9468 - 745ms/epoch - 21ms/step\n",
            "Epoch 9/50\n",
            "\n",
            "Epoch 9: val_accuracy did not improve from 0.94684\n",
            "35/35 - 1s - loss: 0.1898 - accuracy: 0.9209 - val_loss: 0.1555 - val_accuracy: 0.9468 - 642ms/epoch - 18ms/step\n",
            "Epoch 10/50\n",
            "\n",
            "Epoch 10: val_accuracy did not improve from 0.94684\n",
            "35/35 - 1s - loss: 0.2277 - accuracy: 0.9164 - val_loss: 0.1700 - val_accuracy: 0.9241 - 631ms/epoch - 18ms/step\n",
            "Epoch 11/50\n",
            "\n",
            "Epoch 11: val_accuracy did not improve from 0.94684\n",
            "35/35 - 1s - loss: 0.1940 - accuracy: 0.9263 - val_loss: 0.1539 - val_accuracy: 0.9418 - 658ms/epoch - 19ms/step\n",
            "Epoch 12/50\n",
            "\n",
            "Epoch 12: val_accuracy improved from 0.94684 to 0.95443, saving model to /content/gdrive/MyDrive/ANN Project/Models/DNN_optimize_bestModel.h5\n",
            "35/35 - 1s - loss: 0.1770 - accuracy: 0.9303 - val_loss: 0.1494 - val_accuracy: 0.9544 - 731ms/epoch - 21ms/step\n",
            "Epoch 13/50\n",
            "\n",
            "Epoch 13: val_accuracy did not improve from 0.95443\n",
            "35/35 - 1s - loss: 0.2234 - accuracy: 0.9111 - val_loss: 0.1809 - val_accuracy: 0.9342 - 646ms/epoch - 18ms/step\n",
            "Epoch 14/50\n",
            "\n",
            "Epoch 14: val_accuracy did not improve from 0.95443\n",
            "35/35 - 0s - loss: 0.1722 - accuracy: 0.9352 - val_loss: 0.1490 - val_accuracy: 0.9443 - 446ms/epoch - 13ms/step\n",
            "Epoch 15/50\n",
            "\n",
            "Epoch 15: val_accuracy did not improve from 0.95443\n",
            "35/35 - 0s - loss: 0.1738 - accuracy: 0.9298 - val_loss: 0.1669 - val_accuracy: 0.9291 - 409ms/epoch - 12ms/step\n",
            "Epoch 16/50\n",
            "\n",
            "Epoch 16: val_accuracy did not improve from 0.95443\n",
            "35/35 - 0s - loss: 0.1625 - accuracy: 0.9388 - val_loss: 0.1701 - val_accuracy: 0.9316 - 430ms/epoch - 12ms/step\n",
            "Epoch 17/50\n",
            "\n",
            "Epoch 17: val_accuracy did not improve from 0.95443\n",
            "35/35 - 0s - loss: 0.1833 - accuracy: 0.9254 - val_loss: 0.1687 - val_accuracy: 0.9392 - 460ms/epoch - 13ms/step\n",
            "Epoch 18/50\n",
            "\n",
            "Epoch 18: val_accuracy did not improve from 0.95443\n",
            "35/35 - 0s - loss: 0.1538 - accuracy: 0.9383 - val_loss: 0.2288 - val_accuracy: 0.9089 - 419ms/epoch - 12ms/step\n",
            "Epoch 19/50\n",
            "\n",
            "Epoch 19: val_accuracy did not improve from 0.95443\n",
            "35/35 - 0s - loss: 0.1689 - accuracy: 0.9334 - val_loss: 0.1598 - val_accuracy: 0.9392 - 451ms/epoch - 13ms/step\n",
            "Epoch 20/50\n",
            "\n",
            "Epoch 20: val_accuracy did not improve from 0.95443\n",
            "35/35 - 0s - loss: 0.1568 - accuracy: 0.9357 - val_loss: 0.1778 - val_accuracy: 0.9418 - 446ms/epoch - 13ms/step\n",
            "Epoch 21/50\n",
            "\n",
            "Epoch 21: val_accuracy did not improve from 0.95443\n",
            "35/35 - 0s - loss: 0.1577 - accuracy: 0.9397 - val_loss: 0.1886 - val_accuracy: 0.9342 - 468ms/epoch - 13ms/step\n",
            "Epoch 22/50\n",
            "\n",
            "Epoch 22: val_accuracy did not improve from 0.95443\n",
            "35/35 - 0s - loss: 0.1413 - accuracy: 0.9406 - val_loss: 0.1574 - val_accuracy: 0.9494 - 431ms/epoch - 12ms/step\n",
            "Epoch 23/50\n",
            "\n",
            "Epoch 23: val_accuracy did not improve from 0.95443\n",
            "35/35 - 0s - loss: 0.1709 - accuracy: 0.9334 - val_loss: 0.1524 - val_accuracy: 0.9494 - 461ms/epoch - 13ms/step\n",
            "Epoch 24/50\n",
            "\n",
            "Epoch 24: val_accuracy did not improve from 0.95443\n",
            "35/35 - 0s - loss: 0.1417 - accuracy: 0.9410 - val_loss: 0.1560 - val_accuracy: 0.9418 - 408ms/epoch - 12ms/step\n",
            "Epoch 25/50\n",
            "\n",
            "Epoch 25: val_accuracy did not improve from 0.95443\n",
            "35/35 - 0s - loss: 0.1405 - accuracy: 0.9410 - val_loss: 0.2023 - val_accuracy: 0.9215 - 396ms/epoch - 11ms/step\n",
            "Epoch 26/50\n",
            "\n",
            "Epoch 26: val_accuracy did not improve from 0.95443\n",
            "35/35 - 0s - loss: 0.1476 - accuracy: 0.9410 - val_loss: 0.2118 - val_accuracy: 0.9089 - 475ms/epoch - 14ms/step\n",
            "Epoch 27/50\n",
            "\n",
            "Epoch 27: val_accuracy did not improve from 0.95443\n",
            "35/35 - 0s - loss: 0.1490 - accuracy: 0.9397 - val_loss: 0.1576 - val_accuracy: 0.9392 - 397ms/epoch - 11ms/step\n",
            "Epoch 28/50\n",
            "\n",
            "Epoch 28: val_accuracy did not improve from 0.95443\n",
            "35/35 - 0s - loss: 0.1274 - accuracy: 0.9500 - val_loss: 0.1811 - val_accuracy: 0.9392 - 448ms/epoch - 13ms/step\n",
            "Epoch 29/50\n",
            "\n",
            "Epoch 29: val_accuracy did not improve from 0.95443\n",
            "35/35 - 0s - loss: 0.1314 - accuracy: 0.9477 - val_loss: 0.1756 - val_accuracy: 0.9418 - 439ms/epoch - 13ms/step\n",
            "Epoch 30/50\n",
            "\n",
            "Epoch 30: val_accuracy did not improve from 0.95443\n",
            "35/35 - 0s - loss: 0.1331 - accuracy: 0.9477 - val_loss: 0.1657 - val_accuracy: 0.9468 - 377ms/epoch - 11ms/step\n",
            "Epoch 31/50\n",
            "\n",
            "Epoch 31: val_accuracy did not improve from 0.95443\n",
            "35/35 - 0s - loss: 0.1349 - accuracy: 0.9459 - val_loss: 0.1694 - val_accuracy: 0.9418 - 436ms/epoch - 12ms/step\n",
            "Epoch 32/50\n",
            "\n",
            "Epoch 32: val_accuracy did not improve from 0.95443\n",
            "35/35 - 0s - loss: 0.1153 - accuracy: 0.9535 - val_loss: 0.2683 - val_accuracy: 0.9139 - 390ms/epoch - 11ms/step\n",
            "Epoch 33/50\n",
            "\n",
            "Epoch 33: val_accuracy did not improve from 0.95443\n",
            "35/35 - 0s - loss: 0.1434 - accuracy: 0.9419 - val_loss: 0.1931 - val_accuracy: 0.9266 - 447ms/epoch - 13ms/step\n",
            "Epoch 34/50\n",
            "\n",
            "Epoch 34: val_accuracy did not improve from 0.95443\n",
            "35/35 - 0s - loss: 0.1690 - accuracy: 0.9272 - val_loss: 0.2191 - val_accuracy: 0.9114 - 441ms/epoch - 13ms/step\n",
            "Epoch 35/50\n",
            "\n",
            "Epoch 35: val_accuracy did not improve from 0.95443\n",
            "35/35 - 0s - loss: 0.1299 - accuracy: 0.9424 - val_loss: 0.1687 - val_accuracy: 0.9443 - 443ms/epoch - 13ms/step\n",
            "Epoch 36/50\n",
            "\n",
            "Epoch 36: val_accuracy did not improve from 0.95443\n",
            "35/35 - 0s - loss: 0.1143 - accuracy: 0.9544 - val_loss: 0.1865 - val_accuracy: 0.9367 - 411ms/epoch - 12ms/step\n",
            "Epoch 37/50\n",
            "\n",
            "Epoch 37: val_accuracy did not improve from 0.95443\n",
            "35/35 - 1s - loss: 0.1272 - accuracy: 0.9428 - val_loss: 0.1929 - val_accuracy: 0.9316 - 613ms/epoch - 18ms/step\n",
            "Epoch 38/50\n",
            "\n",
            "Epoch 38: val_accuracy did not improve from 0.95443\n",
            "35/35 - 1s - loss: 0.1121 - accuracy: 0.9526 - val_loss: 0.2422 - val_accuracy: 0.9139 - 700ms/epoch - 20ms/step\n",
            "Epoch 39/50\n",
            "\n",
            "Epoch 39: val_accuracy did not improve from 0.95443\n",
            "35/35 - 1s - loss: 0.1214 - accuracy: 0.9508 - val_loss: 0.1977 - val_accuracy: 0.9468 - 838ms/epoch - 24ms/step\n",
            "Epoch 40/50\n",
            "\n",
            "Epoch 40: val_accuracy did not improve from 0.95443\n",
            "35/35 - 1s - loss: 0.1270 - accuracy: 0.9441 - val_loss: 0.2036 - val_accuracy: 0.9266 - 701ms/epoch - 20ms/step\n",
            "Epoch 41/50\n",
            "\n",
            "Epoch 41: val_accuracy did not improve from 0.95443\n",
            "35/35 - 1s - loss: 0.1113 - accuracy: 0.9526 - val_loss: 0.2036 - val_accuracy: 0.9241 - 808ms/epoch - 23ms/step\n",
            "Epoch 42/50\n",
            "\n",
            "Epoch 42: val_accuracy did not improve from 0.95443\n",
            "35/35 - 1s - loss: 0.1295 - accuracy: 0.9477 - val_loss: 0.1893 - val_accuracy: 0.9342 - 818ms/epoch - 23ms/step\n",
            "Epoch 43/50\n",
            "\n",
            "Epoch 43: val_accuracy did not improve from 0.95443\n",
            "35/35 - 1s - loss: 0.1147 - accuracy: 0.9495 - val_loss: 0.2326 - val_accuracy: 0.8734 - 599ms/epoch - 17ms/step\n",
            "Epoch 44/50\n",
            "\n",
            "Epoch 44: val_accuracy did not improve from 0.95443\n",
            "35/35 - 1s - loss: 0.1248 - accuracy: 0.9477 - val_loss: 0.1667 - val_accuracy: 0.9367 - 535ms/epoch - 15ms/step\n",
            "Epoch 45/50\n",
            "\n",
            "Epoch 45: val_accuracy did not improve from 0.95443\n",
            "35/35 - 1s - loss: 0.1248 - accuracy: 0.9464 - val_loss: 0.2353 - val_accuracy: 0.9063 - 991ms/epoch - 28ms/step\n",
            "Epoch 46/50\n",
            "\n",
            "Epoch 46: val_accuracy did not improve from 0.95443\n",
            "35/35 - 1s - loss: 0.1067 - accuracy: 0.9504 - val_loss: 0.1704 - val_accuracy: 0.9443 - 768ms/epoch - 22ms/step\n",
            "Epoch 47/50\n",
            "\n",
            "Epoch 47: val_accuracy did not improve from 0.95443\n",
            "35/35 - 1s - loss: 0.0916 - accuracy: 0.9651 - val_loss: 0.2924 - val_accuracy: 0.9089 - 655ms/epoch - 19ms/step\n",
            "Epoch 48/50\n",
            "\n",
            "Epoch 48: val_accuracy did not improve from 0.95443\n",
            "35/35 - 0s - loss: 0.1212 - accuracy: 0.9450 - val_loss: 0.1967 - val_accuracy: 0.9392 - 432ms/epoch - 12ms/step\n",
            "Epoch 49/50\n",
            "\n",
            "Epoch 49: val_accuracy did not improve from 0.95443\n",
            "35/35 - 0s - loss: 0.0921 - accuracy: 0.9629 - val_loss: 0.2145 - val_accuracy: 0.9316 - 464ms/epoch - 13ms/step\n",
            "Epoch 50/50\n",
            "\n",
            "Epoch 50: val_accuracy did not improve from 0.95443\n",
            "35/35 - 0s - loss: 0.1189 - accuracy: 0.9535 - val_loss: 0.1867 - val_accuracy: 0.9316 - 408ms/epoch - 12ms/step\n"
          ]
        }
      ]
    },
    {
      "cell_type": "code",
      "source": [
        "filepath='/content/gdrive/MyDrive/ANN Project/Models/DNN_optimize_bestModel.h5'\n",
        "predModel=Model(inputs=inputSignal, outputs=buildModel(inputSignal))\n",
        "predModel.load_weights(filepath)\n",
        "predModel.compile(optimizer=optimizer, loss='binary_crossentropy', metrics=['accuracy'])\n",
        "\n",
        "test_dataset = tf.data.Dataset.from_tensor_slices((testData, testLabel))\n",
        "test_dataset = test_dataset.batch(64)\n",
        "result = predModel.evaluate(test_dataset)"
      ],
      "metadata": {
        "colab": {
          "base_uri": "https://localhost:8080/"
        },
        "id": "LSionoO_CeRM",
        "outputId": "2b8a84dc-38b8-45b7-d81e-f9e77c51c19d"
      },
      "execution_count": null,
      "outputs": [
        {
          "output_type": "stream",
          "name": "stdout",
          "text": [
            "11/11 [==============================] - 1s 6ms/step - loss: 0.1679 - accuracy: 0.9439\n"
          ]
        }
      ]
    },
    {
      "cell_type": "code",
      "source": [
        "import matplotlib.pyplot as plt\n",
        "\n",
        "plt.figure(figsize=(12,4))\n",
        "plt.subplot(1,2,1)\n",
        "plt.plot(hist.history['loss'])\n",
        "plt.plot(hist.history['accuracy'])\n",
        "plt.title('Train')\n",
        "plt.legend(['loss', 'accuracy'])\n",
        "\n",
        "plt.subplot(1,2,2)\n",
        "plt.plot(hist.history['val_loss'])\n",
        "plt.plot(hist.history['val_accuracy'])\n",
        "plt.title('Validation')\n",
        "plt.legend(['val_loss', 'val_accuracy'])\n",
        "plt.show()"
      ],
      "metadata": {
        "colab": {
          "base_uri": "https://localhost:8080/",
          "height": 391
        },
        "id": "85Jqp80aJRIL",
        "outputId": "e6e9e0f1-7c10-4859-fba6-04d421f8a33e"
      },
      "execution_count": null,
      "outputs": [
        {
          "output_type": "display_data",
          "data": {
            "text/plain": [
              "<Figure size 1200x400 with 2 Axes>"
            ],
            "image/png": "[encoded data removed]"
          },
          "metadata": {}
        }
      ]
    },
    {
      "cell_type": "markdown",
      "source": [
        "Yorum\n",
        "\n",
        "* Modelin derinleşmesine rağmen modelin test verisi üzerindeki başarısı çok az iyileşmiştir. Başarının bu şekilde olmasının büyük bir sebebi verinin ön işlemesinden kaynaklanmaktadır. Veriye resize işlemi uygulandığı için ve daha sonra tek boyuta düşürüldüğünde verinin bir kısmı kaybedilir. İşlem gücümüz donanımsal olarak kısıtlı olduğu üçün verilerde boyut düşürme işlemine başvurulmuştur."
      ],
      "metadata": {
        "id": "zCHbmt8UJAha"
      }
    },
    {
      "cell_type": "markdown",
      "source": [
        "#Modelin Parametre Sayısını Artırmak\n",
        "* Herbir katmandaki nöron sayısı iki katına çıkarılmıştır. Bu sayede parametre sayısı artmıştır. Modelin iyi bir başarı göstermesi beklenebilir."
      ],
      "metadata": {
        "id": "WJulF17uLQV5"
      }
    },
    {
      "cell_type": "code",
      "source": [
        "def buildModel(inputVector):\n",
        "\n",
        "    layer1 = Dense(128*2, activation='relu')(inputVector)\n",
        "    layer2 = Dense(128*2, activation='relu')(layer1)    \n",
        "    layer3 = Dropout(0.25)(layer2)  \n",
        "    layer4 = Dense(64*2, activation='relu')(layer3)  \n",
        "    layer5 = Dense(64*2, activation='relu')(layer4)\n",
        "    layer6 = Dropout(0.25)(layer5)\n",
        "    layer7 = Dense(32*2, activation='relu')(layer6)  \n",
        "    layer8 = Dense(32*2, activation='relu')(layer7)  \n",
        "    layer9 = Dropout(0.25)(layer8)\n",
        "    layer10 = Dense(16*2, activation='relu')(layer9)      \n",
        "    layer11 = Dense(1, activation='sigmoid')(layer10)\n",
        "\n",
        "    return layer11\n",
        "\n",
        "length=4096\n",
        "inputSignal = Input(shape=(length,))\n",
        "model=Model(inputs=inputSignal, outputs=buildModel(inputSignal))\n",
        "optimizer = Adam(learning_rate=0.001)\n",
        "model.compile(optimizer=optimizer, loss='binary_crossentropy', metrics=['accuracy'])\n",
        "model.summary()"
      ],
      "metadata": {
        "colab": {
          "base_uri": "https://localhost:8080/"
        },
        "id": "bac0_TOaKzMU",
        "outputId": "09cb7314-b254-448e-8742-c87030eb6d01"
      },
      "execution_count": null,
      "outputs": [
        {
          "output_type": "stream",
          "name": "stdout",
          "text": [
            "Model: \"model_15\"\n",
            "_________________________________________________________________\n",
            " Layer (type)                Output Shape              Param #   \n",
            "=================================================================\n",
            " input_14 (InputLayer)       [(None, 4096)]            0         \n",
            "                                                                 \n",
            " dense_73 (Dense)            (None, 256)               1048832   \n",
            "                                                                 \n",
            " dense_74 (Dense)            (None, 256)               65792     \n",
            "                                                                 \n",
            " dropout_23 (Dropout)        (None, 256)               0         \n",
            "                                                                 \n",
            " dense_75 (Dense)            (None, 128)               32896     \n",
            "                                                                 \n",
            " dense_76 (Dense)            (None, 128)               16512     \n",
            "                                                                 \n",
            " dropout_24 (Dropout)        (None, 128)               0         \n",
            "                                                                 \n",
            " dense_77 (Dense)            (None, 64)                8256      \n",
            "                                                                 \n",
            " dense_78 (Dense)            (None, 64)                4160      \n",
            "                                                                 \n",
            " dropout_25 (Dropout)        (None, 64)                0         \n",
            "                                                                 \n",
            " dense_79 (Dense)            (None, 32)                2080      \n",
            "                                                                 \n",
            " dense_80 (Dense)            (None, 1)                 33        \n",
            "                                                                 \n",
            "=================================================================\n",
            "Total params: 1,178,561\n",
            "Trainable params: 1,178,561\n",
            "Non-trainable params: 0\n",
            "_________________________________________________________________\n"
          ]
        }
      ]
    },
    {
      "cell_type": "code",
      "source": [
        "from keras.callbacks import ModelCheckpoint\n",
        "\n",
        "filepath='/content/gdrive/MyDrive/ANN Project/Models/DNN_optimize_parameter_bestModel.h5'\n",
        "checkpoint = ModelCheckpoint(filepath, monitor='val_accuracy',verbose=2, save_best_only=True, mode='max')\n",
        "callbacks_list = [checkpoint]\n",
        "    \n",
        "batch_size=64\n",
        "epochs=50\n",
        "\n",
        "hist=model.fit( trainData,\n",
        "                trainLabel,\n",
        "                epochs=epochs,\n",
        "                shuffle=True,\n",
        "                batch_size=batch_size,\n",
        "                verbose=2,\n",
        "                validation_split=0.15,\n",
        "                callbacks=callbacks_list)"
      ],
      "metadata": {
        "colab": {
          "base_uri": "https://localhost:8080/"
        },
        "id": "isZ8tPrELfkl",
        "outputId": "a719922f-9396-49df-d1c6-90ab28a0f937"
      },
      "execution_count": null,
      "outputs": [
        {
          "output_type": "stream",
          "name": "stdout",
          "text": [
            "Epoch 1/50\n",
            "\n",
            "Epoch 1: val_accuracy improved from -inf to 0.71646, saving model to /content/gdrive/MyDrive/ANN Project/Models/DNN_optimize_parameter_bestModel.h5\n",
            "35/35 - 5s - loss: 0.6248 - accuracy: 0.6390 - val_loss: 0.5651 - val_accuracy: 0.7165 - 5s/epoch - 129ms/step\n",
            "Epoch 2/50\n",
            "\n",
            "Epoch 2: val_accuracy improved from 0.71646 to 0.91392, saving model to /content/gdrive/MyDrive/ANN Project/Models/DNN_optimize_parameter_bestModel.h5\n",
            "35/35 - 1s - loss: 0.4009 - accuracy: 0.8275 - val_loss: 0.2363 - val_accuracy: 0.9139 - 852ms/epoch - 24ms/step\n",
            "Epoch 3/50\n",
            "\n",
            "Epoch 3: val_accuracy improved from 0.91392 to 0.92658, saving model to /content/gdrive/MyDrive/ANN Project/Models/DNN_optimize_parameter_bestModel.h5\n",
            "35/35 - 1s - loss: 0.2750 - accuracy: 0.8829 - val_loss: 0.2067 - val_accuracy: 0.9266 - 838ms/epoch - 24ms/step\n",
            "Epoch 4/50\n",
            "\n",
            "Epoch 4: val_accuracy improved from 0.92658 to 0.93924, saving model to /content/gdrive/MyDrive/ANN Project/Models/DNN_optimize_parameter_bestModel.h5\n",
            "35/35 - 1s - loss: 0.2407 - accuracy: 0.9088 - val_loss: 0.1568 - val_accuracy: 0.9392 - 864ms/epoch - 25ms/step\n",
            "Epoch 5/50\n",
            "\n",
            "Epoch 5: val_accuracy did not improve from 0.93924\n",
            "35/35 - 1s - loss: 0.2492 - accuracy: 0.9044 - val_loss: 0.1552 - val_accuracy: 0.9316 - 755ms/epoch - 22ms/step\n",
            "Epoch 6/50\n",
            "\n",
            "Epoch 6: val_accuracy improved from 0.93924 to 0.94684, saving model to /content/gdrive/MyDrive/ANN Project/Models/DNN_optimize_parameter_bestModel.h5\n",
            "35/35 - 1s - loss: 0.2082 - accuracy: 0.9196 - val_loss: 0.1550 - val_accuracy: 0.9468 - 838ms/epoch - 24ms/step\n",
            "Epoch 7/50\n",
            "\n",
            "Epoch 7: val_accuracy did not improve from 0.94684\n",
            "35/35 - 1s - loss: 0.1843 - accuracy: 0.9281 - val_loss: 0.1750 - val_accuracy: 0.9342 - 736ms/epoch - 21ms/step\n",
            "Epoch 8/50\n",
            "\n",
            "Epoch 8: val_accuracy did not improve from 0.94684\n",
            "35/35 - 1s - loss: 0.1775 - accuracy: 0.9303 - val_loss: 0.1473 - val_accuracy: 0.9443 - 702ms/epoch - 20ms/step\n",
            "Epoch 9/50\n",
            "\n",
            "Epoch 9: val_accuracy did not improve from 0.94684\n",
            "35/35 - 1s - loss: 0.1879 - accuracy: 0.9196 - val_loss: 0.1863 - val_accuracy: 0.9291 - 717ms/epoch - 20ms/step\n",
            "Epoch 10/50\n",
            "\n",
            "Epoch 10: val_accuracy improved from 0.94684 to 0.94937, saving model to /content/gdrive/MyDrive/ANN Project/Models/DNN_optimize_parameter_bestModel.h5\n",
            "35/35 - 1s - loss: 0.1853 - accuracy: 0.9290 - val_loss: 0.1514 - val_accuracy: 0.9494 - 801ms/epoch - 23ms/step\n",
            "Epoch 11/50\n",
            "\n",
            "Epoch 11: val_accuracy did not improve from 0.94937\n",
            "35/35 - 1s - loss: 0.2265 - accuracy: 0.9048 - val_loss: 0.2816 - val_accuracy: 0.8861 - 785ms/epoch - 22ms/step\n",
            "Epoch 12/50\n",
            "\n",
            "Epoch 12: val_accuracy did not improve from 0.94937\n",
            "35/35 - 1s - loss: 0.2014 - accuracy: 0.9254 - val_loss: 0.2223 - val_accuracy: 0.9063 - 1s/epoch - 32ms/step\n",
            "Epoch 13/50\n",
            "\n",
            "Epoch 13: val_accuracy did not improve from 0.94937\n",
            "35/35 - 1s - loss: 0.1808 - accuracy: 0.9316 - val_loss: 0.1535 - val_accuracy: 0.9392 - 1s/epoch - 31ms/step\n",
            "Epoch 14/50\n",
            "\n",
            "Epoch 14: val_accuracy did not improve from 0.94937\n",
            "35/35 - 1s - loss: 0.1785 - accuracy: 0.9254 - val_loss: 0.2577 - val_accuracy: 0.8886 - 1s/epoch - 31ms/step\n",
            "Epoch 15/50\n",
            "\n",
            "Epoch 15: val_accuracy did not improve from 0.94937\n",
            "35/35 - 1s - loss: 0.1639 - accuracy: 0.9348 - val_loss: 0.1756 - val_accuracy: 0.9316 - 1s/epoch - 30ms/step\n",
            "Epoch 16/50\n",
            "\n",
            "Epoch 16: val_accuracy did not improve from 0.94937\n",
            "35/35 - 1s - loss: 0.1664 - accuracy: 0.9294 - val_loss: 0.2534 - val_accuracy: 0.8937 - 726ms/epoch - 21ms/step\n",
            "Epoch 17/50\n",
            "\n",
            "Epoch 17: val_accuracy did not improve from 0.94937\n",
            "35/35 - 1s - loss: 0.1660 - accuracy: 0.9321 - val_loss: 0.2638 - val_accuracy: 0.8886 - 746ms/epoch - 21ms/step\n",
            "Epoch 18/50\n",
            "\n",
            "Epoch 18: val_accuracy did not improve from 0.94937\n",
            "35/35 - 1s - loss: 0.1533 - accuracy: 0.9379 - val_loss: 0.1603 - val_accuracy: 0.9443 - 764ms/epoch - 22ms/step\n",
            "Epoch 19/50\n",
            "\n",
            "Epoch 19: val_accuracy improved from 0.94937 to 0.95190, saving model to /content/gdrive/MyDrive/ANN Project/Models/DNN_optimize_parameter_bestModel.h5\n",
            "35/35 - 1s - loss: 0.1395 - accuracy: 0.9410 - val_loss: 0.1654 - val_accuracy: 0.9519 - 914ms/epoch - 26ms/step\n",
            "Epoch 20/50\n",
            "\n",
            "Epoch 20: val_accuracy did not improve from 0.95190\n",
            "35/35 - 1s - loss: 0.1506 - accuracy: 0.9468 - val_loss: 0.1804 - val_accuracy: 0.9392 - 736ms/epoch - 21ms/step\n",
            "Epoch 21/50\n",
            "\n",
            "Epoch 21: val_accuracy did not improve from 0.95190\n",
            "35/35 - 1s - loss: 0.1421 - accuracy: 0.9437 - val_loss: 0.1608 - val_accuracy: 0.9367 - 748ms/epoch - 21ms/step\n",
            "Epoch 22/50\n",
            "\n",
            "Epoch 22: val_accuracy did not improve from 0.95190\n",
            "35/35 - 1s - loss: 0.1360 - accuracy: 0.9410 - val_loss: 0.1602 - val_accuracy: 0.9367 - 719ms/epoch - 21ms/step\n",
            "Epoch 23/50\n",
            "\n",
            "Epoch 23: val_accuracy did not improve from 0.95190\n",
            "35/35 - 1s - loss: 0.1473 - accuracy: 0.9383 - val_loss: 0.2655 - val_accuracy: 0.8835 - 701ms/epoch - 20ms/step\n",
            "Epoch 24/50\n",
            "\n",
            "Epoch 24: val_accuracy did not improve from 0.95190\n",
            "35/35 - 1s - loss: 0.1303 - accuracy: 0.9424 - val_loss: 0.1822 - val_accuracy: 0.9494 - 714ms/epoch - 20ms/step\n",
            "Epoch 25/50\n",
            "\n",
            "Epoch 25: val_accuracy did not improve from 0.95190\n",
            "35/35 - 1s - loss: 0.1474 - accuracy: 0.9388 - val_loss: 0.2005 - val_accuracy: 0.9367 - 738ms/epoch - 21ms/step\n",
            "Epoch 26/50\n",
            "\n",
            "Epoch 26: val_accuracy did not improve from 0.95190\n",
            "35/35 - 1s - loss: 0.1483 - accuracy: 0.9370 - val_loss: 0.1738 - val_accuracy: 0.9392 - 796ms/epoch - 23ms/step\n",
            "Epoch 27/50\n",
            "\n",
            "Epoch 27: val_accuracy did not improve from 0.95190\n",
            "35/35 - 1s - loss: 0.1293 - accuracy: 0.9486 - val_loss: 0.2415 - val_accuracy: 0.8987 - 734ms/epoch - 21ms/step\n",
            "Epoch 28/50\n",
            "\n",
            "Epoch 28: val_accuracy did not improve from 0.95190\n",
            "35/35 - 1s - loss: 0.1438 - accuracy: 0.9455 - val_loss: 0.1784 - val_accuracy: 0.9494 - 1s/epoch - 34ms/step\n",
            "Epoch 29/50\n",
            "\n",
            "Epoch 29: val_accuracy did not improve from 0.95190\n",
            "35/35 - 1s - loss: 0.1498 - accuracy: 0.9392 - val_loss: 0.1992 - val_accuracy: 0.9215 - 1s/epoch - 41ms/step\n",
            "Epoch 30/50\n",
            "\n",
            "Epoch 30: val_accuracy did not improve from 0.95190\n",
            "35/35 - 1s - loss: 0.1223 - accuracy: 0.9535 - val_loss: 0.1878 - val_accuracy: 0.9418 - 1s/epoch - 34ms/step\n",
            "Epoch 31/50\n",
            "\n",
            "Epoch 31: val_accuracy did not improve from 0.95190\n",
            "35/35 - 2s - loss: 0.1079 - accuracy: 0.9584 - val_loss: 0.1970 - val_accuracy: 0.9241 - 2s/epoch - 54ms/step\n",
            "Epoch 32/50\n",
            "\n",
            "Epoch 32: val_accuracy did not improve from 0.95190\n",
            "35/35 - 1s - loss: 0.1665 - accuracy: 0.9285 - val_loss: 0.2114 - val_accuracy: 0.9215 - 1s/epoch - 41ms/step\n",
            "Epoch 33/50\n",
            "\n",
            "Epoch 33: val_accuracy did not improve from 0.95190\n",
            "35/35 - 1s - loss: 0.1434 - accuracy: 0.9437 - val_loss: 0.1868 - val_accuracy: 0.9316 - 923ms/epoch - 26ms/step\n",
            "Epoch 34/50\n",
            "\n",
            "Epoch 34: val_accuracy did not improve from 0.95190\n",
            "35/35 - 1s - loss: 0.1344 - accuracy: 0.9459 - val_loss: 0.2213 - val_accuracy: 0.9266 - 864ms/epoch - 25ms/step\n",
            "Epoch 35/50\n",
            "\n",
            "Epoch 35: val_accuracy did not improve from 0.95190\n",
            "35/35 - 1s - loss: 0.1619 - accuracy: 0.9361 - val_loss: 0.1580 - val_accuracy: 0.9443 - 1s/epoch - 30ms/step\n",
            "Epoch 36/50\n",
            "\n",
            "Epoch 36: val_accuracy improved from 0.95190 to 0.95443, saving model to /content/gdrive/MyDrive/ANN Project/Models/DNN_optimize_parameter_bestModel.h5\n",
            "35/35 - 1s - loss: 0.1135 - accuracy: 0.9553 - val_loss: 0.1710 - val_accuracy: 0.9544 - 1s/epoch - 40ms/step\n",
            "Epoch 37/50\n",
            "\n",
            "Epoch 37: val_accuracy did not improve from 0.95443\n",
            "35/35 - 1s - loss: 0.1257 - accuracy: 0.9464 - val_loss: 0.2096 - val_accuracy: 0.9165 - 818ms/epoch - 23ms/step\n",
            "Epoch 38/50\n",
            "\n",
            "Epoch 38: val_accuracy did not improve from 0.95443\n",
            "35/35 - 1s - loss: 0.1808 - accuracy: 0.9209 - val_loss: 0.1709 - val_accuracy: 0.9342 - 761ms/epoch - 22ms/step\n",
            "Epoch 39/50\n",
            "\n",
            "Epoch 39: val_accuracy did not improve from 0.95443\n",
            "35/35 - 1s - loss: 0.1185 - accuracy: 0.9508 - val_loss: 0.1504 - val_accuracy: 0.9494 - 743ms/epoch - 21ms/step\n",
            "Epoch 40/50\n",
            "\n",
            "Epoch 40: val_accuracy did not improve from 0.95443\n",
            "35/35 - 1s - loss: 0.0987 - accuracy: 0.9589 - val_loss: 0.1977 - val_accuracy: 0.9316 - 732ms/epoch - 21ms/step\n",
            "Epoch 41/50\n",
            "\n",
            "Epoch 41: val_accuracy did not improve from 0.95443\n",
            "35/35 - 1s - loss: 0.1231 - accuracy: 0.9508 - val_loss: 0.2013 - val_accuracy: 0.9215 - 768ms/epoch - 22ms/step\n",
            "Epoch 42/50\n",
            "\n",
            "Epoch 42: val_accuracy did not improve from 0.95443\n",
            "35/35 - 1s - loss: 0.1400 - accuracy: 0.9410 - val_loss: 0.1807 - val_accuracy: 0.9266 - 951ms/epoch - 27ms/step\n",
            "Epoch 43/50\n",
            "\n",
            "Epoch 43: val_accuracy did not improve from 0.95443\n",
            "35/35 - 1s - loss: 0.1670 - accuracy: 0.9276 - val_loss: 0.1910 - val_accuracy: 0.9367 - 1s/epoch - 34ms/step\n",
            "Epoch 44/50\n",
            "\n",
            "Epoch 44: val_accuracy did not improve from 0.95443\n",
            "35/35 - 1s - loss: 0.1328 - accuracy: 0.9450 - val_loss: 0.1652 - val_accuracy: 0.9443 - 1s/epoch - 31ms/step\n",
            "Epoch 45/50\n",
            "\n",
            "Epoch 45: val_accuracy did not improve from 0.95443\n",
            "35/35 - 1s - loss: 0.1007 - accuracy: 0.9620 - val_loss: 0.2049 - val_accuracy: 0.9392 - 1s/epoch - 32ms/step\n",
            "Epoch 46/50\n",
            "\n",
            "Epoch 46: val_accuracy did not improve from 0.95443\n",
            "35/35 - 1s - loss: 0.1041 - accuracy: 0.9620 - val_loss: 0.1618 - val_accuracy: 0.9367 - 909ms/epoch - 26ms/step\n",
            "Epoch 47/50\n",
            "\n",
            "Epoch 47: val_accuracy did not improve from 0.95443\n",
            "35/35 - 1s - loss: 0.1079 - accuracy: 0.9589 - val_loss: 0.1803 - val_accuracy: 0.9418 - 902ms/epoch - 26ms/step\n",
            "Epoch 48/50\n",
            "\n",
            "Epoch 48: val_accuracy did not improve from 0.95443\n",
            "35/35 - 1s - loss: 0.1172 - accuracy: 0.9517 - val_loss: 0.1653 - val_accuracy: 0.9392 - 1s/epoch - 29ms/step\n",
            "Epoch 49/50\n",
            "\n",
            "Epoch 49: val_accuracy did not improve from 0.95443\n",
            "35/35 - 1s - loss: 0.0811 - accuracy: 0.9674 - val_loss: 0.2510 - val_accuracy: 0.9215 - 1s/epoch - 42ms/step\n",
            "Epoch 50/50\n",
            "\n",
            "Epoch 50: val_accuracy did not improve from 0.95443\n",
            "35/35 - 1s - loss: 0.0970 - accuracy: 0.9567 - val_loss: 0.2045 - val_accuracy: 0.9468 - 713ms/epoch - 20ms/step\n"
          ]
        }
      ]
    },
    {
      "cell_type": "code",
      "source": [
        "filepath='/content/gdrive/MyDrive/ANN Project/Models/DNN_optimize_parameter_bestModel.h5'\n",
        "predModel=Model(inputs=inputSignal, outputs=buildModel(inputSignal))\n",
        "predModel.load_weights(filepath)\n",
        "predModel.compile(optimizer=optimizer, loss='binary_crossentropy', metrics=['accuracy'])\n",
        "\n",
        "test_dataset = tf.data.Dataset.from_tensor_slices((testData, testLabel))\n",
        "test_dataset = test_dataset.batch(64)\n",
        "result = predModel.evaluate(test_dataset)"
      ],
      "metadata": {
        "colab": {
          "base_uri": "https://localhost:8080/"
        },
        "id": "SaibLz6LLrhX",
        "outputId": "041695cd-233a-4587-9ca1-8f946d137eba"
      },
      "execution_count": null,
      "outputs": [
        {
          "output_type": "stream",
          "name": "stdout",
          "text": [
            "11/11 [==============================] - 1s 16ms/step - loss: 0.1697 - accuracy: 0.9469\n"
          ]
        }
      ]
    },
    {
      "cell_type": "code",
      "source": [
        "import matplotlib.pyplot as plt\n",
        "\n",
        "plt.figure(figsize=(12,4))\n",
        "plt.subplot(1,2,1)\n",
        "plt.plot(hist.history['loss'])\n",
        "plt.plot(hist.history['accuracy'])\n",
        "plt.title('Train')\n",
        "plt.legend(['loss', 'accuracy'])\n",
        "\n",
        "plt.subplot(1,2,2)\n",
        "plt.plot(hist.history['val_loss'])\n",
        "plt.plot(hist.history['val_accuracy'])\n",
        "plt.title('Validation')\n",
        "plt.legend(['val_loss', 'val_accuracy'])\n",
        "plt.show()"
      ],
      "metadata": {
        "colab": {
          "base_uri": "https://localhost:8080/",
          "height": 391
        },
        "id": "eD8kGlbeL3LO",
        "outputId": "18b45ad7-ed51-43b1-908f-673013e1d291"
      },
      "execution_count": null,
      "outputs": [
        {
          "output_type": "display_data",
          "data": {
            "text/plain": [
              "<Figure size 1200x400 with 2 Axes>"
            ],
            "image/png": "[encoded data removed]"
          },
          "metadata": {}
        }
      ]
    },
    {
      "cell_type": "markdown",
      "source": [
        "Yorum\n",
        "* Modelin parametre sayısının artırılmasıyla sonucun çok az daha iyi çıktığı gözlemlenmiştir. Bu beklenen bir durumdur."
      ],
      "metadata": {
        "id": "sXWywIHWL96L"
      }
    },
    {
      "cell_type": "markdown",
      "source": [
        "#Veri Boyutunu Artırmak\n",
        "* Giriş veri boyutunu 4 katına çıkararak en optimize modelde testler yapılacaktır. Veri boyutu arttığı için modelin test verisi üzerinde daha iyi bir başarı göstermesi beklenmektedir."
      ],
      "metadata": {
        "id": "rMugRlvaMPvf"
      }
    },
    {
      "cell_type": "code",
      "source": [
        "import os\n",
        "from tqdm import tqdm\n",
        "import cv2\n",
        "import numpy as np\n",
        "import random\n",
        "from sklearn.model_selection import train_test_split\n",
        "\n",
        "def dataRead(mainPath):\n",
        "\n",
        "    data = []\n",
        "    label = []\n",
        "\n",
        "    for folder in os.listdir(mainPath):\n",
        "\n",
        "        dataPath = os.path.join(mainPath, folder)\n",
        "\n",
        "        if os.path.isdir(dataPath):\n",
        "\n",
        "            for dataFile in tqdm(os.listdir(dataPath), desc='DATA READİNG'):\n",
        "\n",
        "                filePath = os.path.join(dataPath, dataFile)\n",
        "\n",
        "                if os.path.isfile(filePath):\n",
        "\n",
        "                    image = cv2.imread(filePath)\n",
        "                    grayImage = cv2.cvtColor(image, cv2.COLOR_BGR2GRAY)\n",
        "                    resizeImage = cv2.resize(grayImage, (128,128))\n",
        "                    normalizedImage = resizeImage/255.0\n",
        "                    flattenImg = normalizedImage.flatten()\n",
        "\n",
        "                    if folder=='NORMAL':\n",
        "                        label.append(0)\n",
        "                    else:\n",
        "                        label.append(1)\n",
        "\n",
        "                    data.append(flattenImg)\n",
        "\n",
        "    return np.array(data), np.array(label) \n",
        "\n",
        "mainPath = '/content/gdrive/My Drive/ANN Project/ChestXray/'\n",
        "metaData, metaLabel = dataRead(mainPath=mainPath)\n",
        "\n",
        "trainData, testData, trainLabel, testLabel = train_test_split(metaData, metaLabel ,random_state=104, train_size=0.8, shuffle=True)\n",
        "\n",
        "print(f'Shape Of trainData : {trainData.shape}')\n",
        "print(f'Shape Of testData : {testData.shape}')"
      ],
      "metadata": {
        "colab": {
          "base_uri": "https://localhost:8080/"
        },
        "id": "FiA4nu6EMOm2",
        "outputId": "57c8af5c-1fe7-46f1-c38a-2cdfaa7dc032"
      },
      "execution_count": null,
      "outputs": [
        {
          "output_type": "stream",
          "name": "stderr",
          "text": [
            "DATA READİNG: 100%|██████████| 1583/1583 [01:08<00:00, 23.18it/s]\n",
            "DATA READİNG: 100%|██████████| 1709/1709 [00:28<00:00, 59.40it/s]\n"
          ]
        },
        {
          "output_type": "stream",
          "name": "stdout",
          "text": [
            "Shape Of trainData : (2633, 16384)\n",
            "Shape Of testData : (659, 16384)\n"
          ]
        }
      ]
    },
    {
      "cell_type": "code",
      "source": [
        "def buildModel(inputVector):\n",
        "\n",
        "    layer1 = Dense(128*2, activation='relu')(inputVector)\n",
        "    layer2 = Dense(128*2, activation='relu')(layer1)    \n",
        "    layer3 = Dropout(0.25)(layer2)  \n",
        "    layer4 = Dense(64*2, activation='relu')(layer3)  \n",
        "    layer5 = Dense(64*2, activation='relu')(layer4)\n",
        "    layer6 = Dropout(0.25)(layer5)\n",
        "    layer7 = Dense(32*2, activation='relu')(layer6)  \n",
        "    layer8 = Dense(32*2, activation='relu')(layer7)  \n",
        "    layer9 = Dropout(0.25)(layer8)\n",
        "    layer10 = Dense(16*2, activation='relu')(layer9)      \n",
        "    layer11 = Dense(1, activation='sigmoid')(layer10)\n",
        "\n",
        "    return layer11\n",
        "\n",
        "length=16384\n",
        "inputSignal = Input(shape=(length,))\n",
        "model=Model(inputs=inputSignal, outputs=buildModel(inputSignal))\n",
        "optimizer = Adam(learning_rate=0.001)\n",
        "model.compile(optimizer=optimizer, loss='binary_crossentropy', metrics=['accuracy'])\n",
        "model.summary()"
      ],
      "metadata": {
        "colab": {
          "base_uri": "https://localhost:8080/"
        },
        "id": "aWD8w2YnNF4Z",
        "outputId": "3247a8c8-05eb-43ad-8914-24145ef2ff44"
      },
      "execution_count": null,
      "outputs": [
        {
          "output_type": "stream",
          "name": "stdout",
          "text": [
            "Model: \"model_18\"\n",
            "_________________________________________________________________\n",
            " Layer (type)                Output Shape              Param #   \n",
            "=================================================================\n",
            " input_15 (InputLayer)       [(None, 16384)]           0         \n",
            "                                                                 \n",
            " dense_97 (Dense)            (None, 256)               4194560   \n",
            "                                                                 \n",
            " dense_98 (Dense)            (None, 256)               65792     \n",
            "                                                                 \n",
            " dropout_32 (Dropout)        (None, 256)               0         \n",
            "                                                                 \n",
            " dense_99 (Dense)            (None, 128)               32896     \n",
            "                                                                 \n",
            " dense_100 (Dense)           (None, 128)               16512     \n",
            "                                                                 \n",
            " dropout_33 (Dropout)        (None, 128)               0         \n",
            "                                                                 \n",
            " dense_101 (Dense)           (None, 64)                8256      \n",
            "                                                                 \n",
            " dense_102 (Dense)           (None, 64)                4160      \n",
            "                                                                 \n",
            " dropout_34 (Dropout)        (None, 64)                0         \n",
            "                                                                 \n",
            " dense_103 (Dense)           (None, 32)                2080      \n",
            "                                                                 \n",
            " dense_104 (Dense)           (None, 1)                 33        \n",
            "                                                                 \n",
            "=================================================================\n",
            "Total params: 4,324,289\n",
            "Trainable params: 4,324,289\n",
            "Non-trainable params: 0\n",
            "_________________________________________________________________\n"
          ]
        }
      ]
    },
    {
      "cell_type": "code",
      "source": [
        "from keras.callbacks import ModelCheckpoint\n",
        "\n",
        "filepath='/content/gdrive/MyDrive/ANN Project/Models/DNN_optimize_dimplus_bestModel.h5'\n",
        "checkpoint = ModelCheckpoint(filepath, monitor='val_accuracy',verbose=2, save_best_only=True, mode='max')\n",
        "callbacks_list = [checkpoint]\n",
        "    \n",
        "batch_size=64\n",
        "epochs=50\n",
        "\n",
        "hist=model.fit( trainData,\n",
        "                trainLabel,\n",
        "                epochs=epochs,\n",
        "                shuffle=True,\n",
        "                batch_size=batch_size,\n",
        "                verbose=2,\n",
        "                validation_split=0.15,\n",
        "                callbacks=callbacks_list)"
      ],
      "metadata": {
        "colab": {
          "base_uri": "https://localhost:8080/"
        },
        "id": "pI39chAhNS7E",
        "outputId": "4d10e4bb-928e-454c-8b36-b9a84ef5c0fe"
      },
      "execution_count": null,
      "outputs": [
        {
          "output_type": "stream",
          "name": "stdout",
          "text": [
            "Epoch 1/50\n",
            "\n",
            "Epoch 1: val_accuracy improved from -inf to 0.49367, saving model to /content/gdrive/MyDrive/ANN Project/Models/DNN_optimize_dimplus_bestModel.h5\n",
            "35/35 - 4s - loss: 0.7791 - accuracy: 0.4942 - val_loss: 0.6963 - val_accuracy: 0.4937 - 4s/epoch - 128ms/step\n",
            "Epoch 2/50\n",
            "\n",
            "Epoch 2: val_accuracy improved from 0.49367 to 0.80000, saving model to /content/gdrive/MyDrive/ANN Project/Models/DNN_optimize_dimplus_bestModel.h5\n",
            "35/35 - 3s - loss: 0.7113 - accuracy: 0.5179 - val_loss: 0.6575 - val_accuracy: 0.8000 - 3s/epoch - 72ms/step\n",
            "Epoch 3/50\n",
            "\n",
            "Epoch 3: val_accuracy improved from 0.80000 to 0.84810, saving model to /content/gdrive/MyDrive/ANN Project/Models/DNN_optimize_dimplus_bestModel.h5\n",
            "35/35 - 3s - loss: 0.6274 - accuracy: 0.6443 - val_loss: 0.3799 - val_accuracy: 0.8481 - 3s/epoch - 97ms/step\n",
            "Epoch 4/50\n",
            "\n",
            "Epoch 4: val_accuracy improved from 0.84810 to 0.90886, saving model to /content/gdrive/MyDrive/ANN Project/Models/DNN_optimize_dimplus_bestModel.h5\n",
            "35/35 - 3s - loss: 0.4336 - accuracy: 0.8097 - val_loss: 0.2609 - val_accuracy: 0.9089 - 3s/epoch - 97ms/step\n",
            "Epoch 5/50\n",
            "\n",
            "Epoch 5: val_accuracy did not improve from 0.90886\n",
            "35/35 - 2s - loss: 0.2945 - accuracy: 0.8856 - val_loss: 0.2239 - val_accuracy: 0.9063 - 2s/epoch - 69ms/step\n",
            "Epoch 6/50\n",
            "\n",
            "Epoch 6: val_accuracy did not improve from 0.90886\n",
            "35/35 - 4s - loss: 0.2350 - accuracy: 0.9053 - val_loss: 0.2603 - val_accuracy: 0.8810 - 4s/epoch - 103ms/step\n",
            "Epoch 7/50\n",
            "\n",
            "Epoch 7: val_accuracy improved from 0.90886 to 0.93671, saving model to /content/gdrive/MyDrive/ANN Project/Models/DNN_optimize_dimplus_bestModel.h5\n",
            "35/35 - 3s - loss: 0.2466 - accuracy: 0.9039 - val_loss: 0.1822 - val_accuracy: 0.9367 - 3s/epoch - 97ms/step\n",
            "Epoch 8/50\n",
            "\n",
            "Epoch 8: val_accuracy improved from 0.93671 to 0.94430, saving model to /content/gdrive/MyDrive/ANN Project/Models/DNN_optimize_dimplus_bestModel.h5\n",
            "35/35 - 4s - loss: 0.1995 - accuracy: 0.9178 - val_loss: 0.1479 - val_accuracy: 0.9443 - 4s/epoch - 113ms/step\n",
            "Epoch 9/50\n",
            "\n",
            "Epoch 9: val_accuracy did not improve from 0.94430\n",
            "35/35 - 2s - loss: 0.2317 - accuracy: 0.9048 - val_loss: 0.1972 - val_accuracy: 0.9342 - 2s/epoch - 67ms/step\n",
            "Epoch 10/50\n",
            "\n",
            "Epoch 10: val_accuracy did not improve from 0.94430\n",
            "35/35 - 3s - loss: 0.1819 - accuracy: 0.9263 - val_loss: 0.1505 - val_accuracy: 0.9418 - 3s/epoch - 73ms/step\n",
            "Epoch 11/50\n",
            "\n",
            "Epoch 11: val_accuracy did not improve from 0.94430\n",
            "35/35 - 3s - loss: 0.1814 - accuracy: 0.9272 - val_loss: 0.1957 - val_accuracy: 0.9241 - 3s/epoch - 80ms/step\n",
            "Epoch 12/50\n",
            "\n",
            "Epoch 12: val_accuracy improved from 0.94430 to 0.94684, saving model to /content/gdrive/MyDrive/ANN Project/Models/DNN_optimize_dimplus_bestModel.h5\n",
            "35/35 - 6s - loss: 0.1827 - accuracy: 0.9236 - val_loss: 0.1407 - val_accuracy: 0.9468 - 6s/epoch - 157ms/step\n",
            "Epoch 13/50\n",
            "\n",
            "Epoch 13: val_accuracy did not improve from 0.94684\n",
            "35/35 - 3s - loss: 0.1892 - accuracy: 0.9249 - val_loss: 0.1638 - val_accuracy: 0.9468 - 3s/epoch - 76ms/step\n",
            "Epoch 14/50\n",
            "\n",
            "Epoch 14: val_accuracy did not improve from 0.94684\n",
            "35/35 - 2s - loss: 0.1715 - accuracy: 0.9303 - val_loss: 0.3594 - val_accuracy: 0.8608 - 2s/epoch - 66ms/step\n",
            "Epoch 15/50\n",
            "\n",
            "Epoch 15: val_accuracy did not improve from 0.94684\n",
            "35/35 - 2s - loss: 0.1690 - accuracy: 0.9240 - val_loss: 0.1518 - val_accuracy: 0.9443 - 2s/epoch - 67ms/step\n",
            "Epoch 16/50\n",
            "\n",
            "Epoch 16: val_accuracy did not improve from 0.94684\n",
            "35/35 - 2s - loss: 0.1615 - accuracy: 0.9312 - val_loss: 0.1813 - val_accuracy: 0.9316 - 2s/epoch - 67ms/step\n",
            "Epoch 17/50\n",
            "\n",
            "Epoch 17: val_accuracy did not improve from 0.94684\n",
            "35/35 - 3s - loss: 0.1954 - accuracy: 0.9218 - val_loss: 0.2165 - val_accuracy: 0.9114 - 3s/epoch - 93ms/step\n",
            "Epoch 18/50\n",
            "\n",
            "Epoch 18: val_accuracy improved from 0.94684 to 0.94937, saving model to /content/gdrive/MyDrive/ANN Project/Models/DNN_optimize_dimplus_bestModel.h5\n",
            "35/35 - 5s - loss: 0.1502 - accuracy: 0.9392 - val_loss: 0.1513 - val_accuracy: 0.9494 - 5s/epoch - 131ms/step\n",
            "Epoch 19/50\n",
            "\n",
            "Epoch 19: val_accuracy did not improve from 0.94937\n",
            "35/35 - 2s - loss: 0.1298 - accuracy: 0.9473 - val_loss: 0.1924 - val_accuracy: 0.9316 - 2s/epoch - 67ms/step\n",
            "Epoch 20/50\n",
            "\n",
            "Epoch 20: val_accuracy did not improve from 0.94937\n",
            "35/35 - 2s - loss: 0.1608 - accuracy: 0.9285 - val_loss: 0.2385 - val_accuracy: 0.9063 - 2s/epoch - 67ms/step\n",
            "Epoch 21/50\n",
            "\n",
            "Epoch 21: val_accuracy did not improve from 0.94937\n",
            "35/35 - 2s - loss: 0.1537 - accuracy: 0.9410 - val_loss: 0.1579 - val_accuracy: 0.9443 - 2s/epoch - 65ms/step\n",
            "Epoch 22/50\n",
            "\n",
            "Epoch 22: val_accuracy did not improve from 0.94937\n",
            "35/35 - 3s - loss: 0.1378 - accuracy: 0.9374 - val_loss: 0.1918 - val_accuracy: 0.9443 - 3s/epoch - 88ms/step\n",
            "Epoch 23/50\n",
            "\n",
            "Epoch 23: val_accuracy improved from 0.94937 to 0.95190, saving model to /content/gdrive/MyDrive/ANN Project/Models/DNN_optimize_dimplus_bestModel.h5\n",
            "35/35 - 4s - loss: 0.1338 - accuracy: 0.9424 - val_loss: 0.1601 - val_accuracy: 0.9519 - 4s/epoch - 123ms/step\n",
            "Epoch 24/50\n",
            "\n",
            "Epoch 24: val_accuracy did not improve from 0.95190\n",
            "35/35 - 2s - loss: 0.1546 - accuracy: 0.9357 - val_loss: 0.1604 - val_accuracy: 0.9443 - 2s/epoch - 67ms/step\n",
            "Epoch 25/50\n",
            "\n",
            "Epoch 25: val_accuracy did not improve from 0.95190\n",
            "35/35 - 2s - loss: 0.1465 - accuracy: 0.9433 - val_loss: 0.1508 - val_accuracy: 0.9494 - 2s/epoch - 66ms/step\n",
            "Epoch 26/50\n",
            "\n",
            "Epoch 26: val_accuracy did not improve from 0.95190\n",
            "35/35 - 2s - loss: 0.1148 - accuracy: 0.9535 - val_loss: 0.1630 - val_accuracy: 0.9392 - 2s/epoch - 67ms/step\n",
            "Epoch 27/50\n",
            "\n",
            "Epoch 27: val_accuracy did not improve from 0.95190\n",
            "35/35 - 3s - loss: 0.1272 - accuracy: 0.9468 - val_loss: 0.1641 - val_accuracy: 0.9443 - 3s/epoch - 86ms/step\n",
            "Epoch 28/50\n",
            "\n",
            "Epoch 28: val_accuracy did not improve from 0.95190\n",
            "35/35 - 3s - loss: 0.1103 - accuracy: 0.9535 - val_loss: 0.2450 - val_accuracy: 0.9190 - 3s/epoch - 99ms/step\n",
            "Epoch 29/50\n",
            "\n",
            "Epoch 29: val_accuracy did not improve from 0.95190\n",
            "35/35 - 2s - loss: 0.1096 - accuracy: 0.9540 - val_loss: 0.1801 - val_accuracy: 0.9494 - 2s/epoch - 67ms/step\n",
            "Epoch 30/50\n",
            "\n",
            "Epoch 30: val_accuracy did not improve from 0.95190\n",
            "35/35 - 2s - loss: 0.1738 - accuracy: 0.9263 - val_loss: 0.2235 - val_accuracy: 0.9038 - 2s/epoch - 67ms/step\n",
            "Epoch 31/50\n",
            "\n",
            "Epoch 31: val_accuracy did not improve from 0.95190\n",
            "35/35 - 2s - loss: 0.1634 - accuracy: 0.9330 - val_loss: 0.1654 - val_accuracy: 0.9392 - 2s/epoch - 65ms/step\n",
            "Epoch 32/50\n",
            "\n",
            "Epoch 32: val_accuracy did not improve from 0.95190\n",
            "35/35 - 2s - loss: 0.1263 - accuracy: 0.9464 - val_loss: 0.1562 - val_accuracy: 0.9443 - 2s/epoch - 65ms/step\n",
            "Epoch 33/50\n",
            "\n",
            "Epoch 33: val_accuracy did not improve from 0.95190\n",
            "35/35 - 3s - loss: 0.1359 - accuracy: 0.9433 - val_loss: 0.1736 - val_accuracy: 0.9443 - 3s/epoch - 98ms/step\n",
            "Epoch 34/50\n",
            "\n",
            "Epoch 34: val_accuracy did not improve from 0.95190\n",
            "35/35 - 3s - loss: 0.1103 - accuracy: 0.9531 - val_loss: 0.2536 - val_accuracy: 0.9266 - 3s/epoch - 82ms/step\n",
            "Epoch 35/50\n",
            "\n",
            "Epoch 35: val_accuracy did not improve from 0.95190\n",
            "35/35 - 2s - loss: 0.1616 - accuracy: 0.9415 - val_loss: 0.1735 - val_accuracy: 0.9342 - 2s/epoch - 65ms/step\n",
            "Epoch 36/50\n",
            "\n",
            "Epoch 36: val_accuracy did not improve from 0.95190\n",
            "35/35 - 2s - loss: 0.1065 - accuracy: 0.9589 - val_loss: 0.1685 - val_accuracy: 0.9443 - 2s/epoch - 67ms/step\n",
            "Epoch 37/50\n",
            "\n",
            "Epoch 37: val_accuracy did not improve from 0.95190\n",
            "35/35 - 2s - loss: 0.1065 - accuracy: 0.9562 - val_loss: 0.2542 - val_accuracy: 0.9139 - 2s/epoch - 66ms/step\n",
            "Epoch 38/50\n",
            "\n",
            "Epoch 38: val_accuracy did not improve from 0.95190\n",
            "35/35 - 3s - loss: 0.1103 - accuracy: 0.9571 - val_loss: 0.2232 - val_accuracy: 0.9367 - 3s/epoch - 76ms/step\n",
            "Epoch 39/50\n",
            "\n",
            "Epoch 39: val_accuracy did not improve from 0.95190\n",
            "35/35 - 4s - loss: 0.1082 - accuracy: 0.9549 - val_loss: 0.2097 - val_accuracy: 0.9342 - 4s/epoch - 102ms/step\n",
            "Epoch 40/50\n",
            "\n",
            "Epoch 40: val_accuracy improved from 0.95190 to 0.95443, saving model to /content/gdrive/MyDrive/ANN Project/Models/DNN_optimize_dimplus_bestModel.h5\n",
            "35/35 - 3s - loss: 0.0795 - accuracy: 0.9660 - val_loss: 0.1876 - val_accuracy: 0.9544 - 3s/epoch - 91ms/step\n",
            "Epoch 41/50\n",
            "\n",
            "Epoch 41: val_accuracy did not improve from 0.95443\n",
            "35/35 - 2s - loss: 0.1079 - accuracy: 0.9580 - val_loss: 0.2074 - val_accuracy: 0.9443 - 2s/epoch - 67ms/step\n",
            "Epoch 42/50\n",
            "\n",
            "Epoch 42: val_accuracy did not improve from 0.95443\n",
            "35/35 - 2s - loss: 0.1096 - accuracy: 0.9540 - val_loss: 0.1955 - val_accuracy: 0.9392 - 2s/epoch - 65ms/step\n",
            "Epoch 43/50\n",
            "\n",
            "Epoch 43: val_accuracy did not improve from 0.95443\n",
            "35/35 - 3s - loss: 0.0996 - accuracy: 0.9576 - val_loss: 0.1729 - val_accuracy: 0.9494 - 3s/epoch - 75ms/step\n",
            "Epoch 44/50\n",
            "\n",
            "Epoch 44: val_accuracy did not improve from 0.95443\n",
            "35/35 - 4s - loss: 0.1226 - accuracy: 0.9526 - val_loss: 0.1892 - val_accuracy: 0.9190 - 4s/epoch - 115ms/step\n",
            "Epoch 45/50\n",
            "\n",
            "Epoch 45: val_accuracy did not improve from 0.95443\n",
            "35/35 - 2s - loss: 0.1021 - accuracy: 0.9593 - val_loss: 0.2141 - val_accuracy: 0.9392 - 2s/epoch - 66ms/step\n",
            "Epoch 46/50\n",
            "\n",
            "Epoch 46: val_accuracy did not improve from 0.95443\n",
            "35/35 - 2s - loss: 0.0891 - accuracy: 0.9701 - val_loss: 0.1830 - val_accuracy: 0.9494 - 2s/epoch - 66ms/step\n",
            "Epoch 47/50\n",
            "\n",
            "Epoch 47: val_accuracy did not improve from 0.95443\n",
            "35/35 - 2s - loss: 0.0952 - accuracy: 0.9647 - val_loss: 0.3668 - val_accuracy: 0.8658 - 2s/epoch - 66ms/step\n",
            "Epoch 48/50\n",
            "\n",
            "Epoch 48: val_accuracy did not improve from 0.95443\n",
            "35/35 - 2s - loss: 0.1143 - accuracy: 0.9522 - val_loss: 0.2208 - val_accuracy: 0.9342 - 2s/epoch - 66ms/step\n",
            "Epoch 49/50\n",
            "\n",
            "Epoch 49: val_accuracy did not improve from 0.95443\n",
            "35/35 - 3s - loss: 0.0825 - accuracy: 0.9674 - val_loss: 0.2261 - val_accuracy: 0.9418 - 3s/epoch - 96ms/step\n",
            "Epoch 50/50\n",
            "\n",
            "Epoch 50: val_accuracy did not improve from 0.95443\n",
            "35/35 - 3s - loss: 0.1192 - accuracy: 0.9562 - val_loss: 0.1604 - val_accuracy: 0.9418 - 3s/epoch - 83ms/step\n"
          ]
        }
      ]
    },
    {
      "cell_type": "code",
      "source": [
        "filepath='/content/gdrive/MyDrive/ANN Project/Models/DNN_optimize_dimplus_bestModel.h5'\n",
        "predModel=Model(inputs=inputSignal, outputs=buildModel(inputSignal))\n",
        "predModel.load_weights(filepath)\n",
        "predModel.compile(optimizer=optimizer, loss='binary_crossentropy', metrics=['accuracy'])\n",
        "\n",
        "test_dataset = tf.data.Dataset.from_tensor_slices((testData, testLabel))\n",
        "test_dataset = test_dataset.batch(64)\n",
        "result = predModel.evaluate(test_dataset)"
      ],
      "metadata": {
        "colab": {
          "base_uri": "https://localhost:8080/"
        },
        "id": "RFpPnMA_Nais",
        "outputId": "67f10ce2-44b5-4312-85b2-b8b42b5e7f48"
      },
      "execution_count": null,
      "outputs": [
        {
          "output_type": "stream",
          "name": "stdout",
          "text": [
            "11/11 [==============================] - 1s 20ms/step - loss: 0.1573 - accuracy: 0.9530\n"
          ]
        }
      ]
    },
    {
      "cell_type": "code",
      "source": [
        "import matplotlib.pyplot as plt\n",
        "\n",
        "plt.figure(figsize=(12,4))\n",
        "plt.subplot(1,2,1)\n",
        "plt.plot(hist.history['loss'])\n",
        "plt.plot(hist.history['accuracy'])\n",
        "plt.title('Train')\n",
        "plt.legend(['loss', 'accuracy'])\n",
        "\n",
        "plt.subplot(1,2,2)\n",
        "plt.plot(hist.history['val_loss'])\n",
        "plt.plot(hist.history['val_accuracy'])\n",
        "plt.title('Validation')\n",
        "plt.legend(['val_loss', 'val_accuracy'])\n",
        "plt.show()"
      ],
      "metadata": {
        "colab": {
          "base_uri": "https://localhost:8080/",
          "height": 391
        },
        "id": "1m_j0XtPNkC2",
        "outputId": "a7547790-e085-4da1-8986-fb36dcc13ba1"
      },
      "execution_count": null,
      "outputs": [
        {
          "output_type": "display_data",
          "data": {
            "text/plain": [
              "<Figure size 1200x400 with 2 Axes>"
            ],
            "image/png": "[encoded data removed]"
          },
          "metadata": {}
        }
      ]
    },
    {
      "cell_type": "markdown",
      "source": [
        "Yorum ve Sonuç\n",
        "* Giriş boyutu 4 katına çıkarıldığında modelin test verisi üzerindeki başarısı %94.69'dan %95.30'a çıkmıştır. Bu beklenen bir durumdur. Daha büyük bir boyutta veri olduğunda model daha fazla öğrenecektir. \n",
        "* Sonuç olarak modeli derinleştirmenin ve parametre sayısını artırmanın başarıyı veri boyutunu artırmadan daha az etkilediğini gözlemledik. Bu da bize modeli optimize etmek çok önemli fakat optimize edilen modele girdi olarak verilen verinin de çok önemli olduğu söylüyor."
      ],
      "metadata": {
        "id": "4eXmuqdLOBwr"
      }
    }
  ]
}